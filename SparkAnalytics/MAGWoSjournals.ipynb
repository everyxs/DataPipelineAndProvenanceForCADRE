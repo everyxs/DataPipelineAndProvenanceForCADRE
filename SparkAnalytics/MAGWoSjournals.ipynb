{
 "cells": [
  {
   "cell_type": "code",
   "execution_count": 1,
   "metadata": {
    "scrolled": true
   },
   "outputs": [
    {
     "data": {
      "text/plain": [
       "Waiting for a Spark session to start..."
      ]
     },
     "metadata": {},
     "output_type": "display_data"
    },
    {
     "data": {
      "text/plain": [
       "sqlContext = org.apache.spark.sql.SQLContext@3f85393c\n"
      ]
     },
     "metadata": {},
     "output_type": "display_data"
    },
    {
     "data": {
      "text/plain": [
       "warning: there was one deprecation warning; re-run with -deprecation for details\n"
      ]
     },
     "metadata": {},
     "output_type": "display_data"
    },
    {
     "data": {
      "text/plain": [
       "org.apache.spark.sql.SQLContext@3f85393c"
      ]
     },
     "execution_count": 1,
     "metadata": {},
     "output_type": "execute_result"
    }
   ],
   "source": [
    "import org.apache.spark.sql.{SQLContext, SaveMode}\n",
    "import org.apache.spark.sql.types.{StructType, StructField, StringType, DoubleType};\n",
    "import com.databricks.spark.xml._\n",
    "\n",
    "val sqlContext = new SQLContext(sc)\n",
    "import sqlContext.implicits._"
   ]
  },
  {
   "cell_type": "code",
   "execution_count": 2,
   "metadata": {},
   "outputs": [
    {
     "name": "stdout",
     "output_type": "stream",
     "text": [
      "+----------+--------------------+----------+\n",
      "|       MID|                Mdoi|      MJid|\n",
      "+----------+--------------------+----------+\n",
      "|2057940216|10.1111/j.1600-07...| 114728194|\n",
      "|2129851794|10.1017/S00208183...| 160686149|\n",
      "|1782961828|                null|  65932378|\n",
      "|2361074566|                null|2764671857|\n",
      "|2039151116|10.1215/00295132-...| 165333975|\n",
      "|2005692652|   10.1190/1.1441619| 106174089|\n",
      "|2057940218|10.1080/01416200....|  30354769|\n",
      "|2129851795|10.5281/zenodo.41643|      null|\n",
      "|1782961867|                null|      null|\n",
      "|2361074570|                null|2764920693|\n",
      "|2039151118|10.1016/j.carbon....| 188605413|\n",
      "|2005692655|10.1109/ICIW.2010.45|      null|\n",
      "|2057940223|10.1016/S0162-310...| 131233414|\n",
      "|2129851796|10.1016/j.revpalb...|  43762691|\n",
      "|1782961894|                null|      null|\n",
      "|2361074586|                null|2764835777|\n",
      "|2039151119|10.1016/S0005-796...| 186589312|\n",
      "|2005692656|   10.1021/la027041o|  75741262|\n",
      "|2057940226|10.1360/crad20070212| 166095821|\n",
      "|2129851798|10.1007/s11367-01...| 108239708|\n",
      "+----------+--------------------+----------+\n",
      "only showing top 20 rows\n",
      "\n"
     ]
    },
    {
     "data": {
      "text/plain": [
       "MAG = [_c0: string, _c1: string ... 20 more fields]\n",
       "MAG2 = [MID: string, Mdoi: string ... 1 more field]\n"
      ]
     },
     "metadata": {},
     "output_type": "display_data"
    },
    {
     "data": {
      "text/plain": [
       "[MID: string, Mdoi: string ... 1 more field]"
      ]
     },
     "execution_count": 2,
     "metadata": {},
     "output_type": "execute_result"
    }
   ],
   "source": [
    "val MAG = spark.read.format(\"csv\").option(\"header\", \"false\").option(\"delimiter\", \"\\t\").load(\"file:///N/dc2/projects/IUNI_MSAcademic/mag_raw/mag/Papers.txt\")\n",
    "val MAG2 = MAG.select(\"_c0\", \"_c2\", \"_c10\").toDF(\"MID\", \"Mdoi\", \"MJid\")\n",
    "MAG2.show"
   ]
  },
  {
   "cell_type": "code",
   "execution_count": 2,
   "metadata": {
    "scrolled": true
   },
   "outputs": [
    {
     "name": "stdout",
     "output_type": "stream",
     "text": [
      "[Stage 2:====================================================>(2219 + 1) / 2220]+---------------+--------+\n",
      "|          _type|   count|\n",
      "+---------------+--------+\n",
      "|            doi|19854965|\n",
      "|           isbn| 5185138|\n",
      "|         art_no| 2759883|\n",
      "|    meeting_abs| 2318856|\n",
      "|          eissn|11666915|\n",
      "|          eisbn| 2858055|\n",
      "|   accession_no|68576611|\n",
      "|           issn|63515789|\n",
      "|parent_book_doi|  520045|\n",
      "+---------------+--------+\n",
      "\n"
     ]
    },
    {
     "data": {
      "text/plain": [
       "WoS = [UID: string, _r_id_disclaimer: string ... 13 more fields]\n",
       "WoS2 = [UID: string, identifier: array<struct<_VALUE:string,_type:string,_value:string>> ... 6 more fields]\n",
       "WoS3 = [UID: string, identifier: array<struct<_VALUE:string,_type:string,_value:string>> ... 7 more fields]\n"
      ]
     },
     "metadata": {},
     "output_type": "display_data"
    },
    {
     "data": {
      "text/plain": [
       "[UID: string, identifier: array<struct<_VALUE:string,_type:string,_value:string>> ... 7 more fields]"
      ]
     },
     "execution_count": 2,
     "metadata": {},
     "output_type": "execute_result"
    }
   ],
   "source": [
    "import scala.util.Try\n",
    "import org.apache.spark.sql.functions._\n",
    "import org.apache.spark.sql.{Row, SQLContext}\n",
    "import org.apache.spark.sql.functions.countDistinct\n",
    "\n",
    "val WoS = spark.read.format(\"parquet\").load(\"file:///N/dc2/projects/IUNI_MSAcademic/wos_raw/parquet/*.parquet\")\n",
    "\n",
    "val WoS2 = WoS.select(\"UID\",\"dynamic_data.cluster_related.identifiers.identifier\",\"static_data.abstracts.abstract.abstract_text.p\",\"static_data.summary.doctypes.doctype\",\n",
    "                       \"static_data.summary.pub_info._pubyear\",\"static_data.summary.names.name.display_name\",\"static_data.summary.publishers.publisher.names.name.full_name\",\"static_data.summary.titles.title\")\n",
    "\n",
    "val WoS3 = WoS2.withColumn(\"identifiers\", explode(col(\"identifier\")))\n",
    "WoS3.groupBy(\"identifiers._type\").count().show"
   ]
  },
  {
   "cell_type": "code",
   "execution_count": 11,
   "metadata": {},
   "outputs": [
    {
     "name": "stdout",
     "output_type": "stream",
     "text": [
      "[Stage 40:===================================================>(2219 + 1) / 2220]+--------+-------+\n",
      "|_pubyear|count  |\n",
      "+--------+-------+\n",
      "|1950    |97529  |\n",
      "|1936    |46915  |\n",
      "|1919    |18542  |\n",
      "|1951    |102476 |\n",
      "|1958    |133849 |\n",
      "|1921    |25381  |\n",
      "|1983    |875203 |\n",
      "|1905    |18486  |\n",
      "|1972    |448751 |\n",
      "|2007    |1992186|\n",
      "|1979    |728896 |\n",
      "|2014    |2760479|\n",
      "|1988    |917336 |\n",
      "|1908    |20847  |\n",
      "|1986    |909514 |\n",
      "|1949    |90748  |\n",
      "|1930    |42998  |\n",
      "|1969    |399411 |\n",
      "|1967    |349364 |\n",
      "|1964    |221303 |\n",
      "|1911    |20504  |\n",
      "|1956    |115670 |\n",
      "|1937    |46087  |\n",
      "|2012    |2552146|\n",
      "|1924    |31753  |\n",
      "|1991    |1046464|\n",
      "|1940    |41076  |\n",
      "|1918    |16499  |\n",
      "|1975    |566378 |\n",
      "|1945    |51526  |\n",
      "|1942    |37774  |\n",
      "|2016    |2919514|\n",
      "|1935    |44603  |\n",
      "|1902    |18075  |\n",
      "|1960    |151862 |\n",
      "|1934    |44400  |\n",
      "|1994    |1161214|\n",
      "|1923    |29597  |\n",
      "|1955    |100346 |\n",
      "|1987    |922854 |\n",
      "|2018    |304    |\n",
      "|1999    |1303803|\n",
      "|1997    |1303590|\n",
      "|1948    |81809  |\n",
      "|1963    |196075 |\n",
      "|1909    |21701  |\n",
      "|1953    |108515 |\n",
      "|2010    |1970497|\n",
      "|2009    |2261179|\n",
      "|1944    |32113  |\n",
      "|1928    |39000  |\n",
      "|1926    |32623  |\n",
      "|1947    |72751  |\n",
      "|2006    |1831897|\n",
      "|2017    |2446416|\n",
      "|1920    |22950  |\n",
      "|1970    |405800 |\n",
      "|1998    |1315237|\n",
      "|2013    |2652097|\n",
      "|1959    |137424 |\n",
      "|1968    |364891 |\n",
      "|1925    |32728  |\n",
      "|1976    |606680 |\n",
      "|1984    |893763 |\n",
      "|1977    |683770 |\n",
      "|1900    |15992  |\n",
      "|1915    |18878  |\n",
      "|2004    |1533279|\n",
      "|1931    |42070  |\n",
      "|2003    |1438964|\n",
      "|1912    |22688  |\n",
      "|2002    |1372714|\n",
      "|1910    |20780  |\n",
      "|1982    |810979 |\n",
      "|1903    |16555  |\n",
      "|2011    |2426736|\n",
      "|1966    |327198 |\n",
      "|1954    |113950 |\n",
      "|1933    |43703  |\n",
      "|1973    |459082 |\n",
      "|1980    |749494 |\n",
      "|1957    |122880 |\n",
      "|1962    |188096 |\n",
      "|1913    |22864  |\n",
      "|1971    |420226 |\n",
      "|1978    |703958 |\n",
      "|1995    |1212183|\n",
      "|2005    |1735077|\n",
      "|1938    |46870  |\n",
      "|1974    |495442 |\n",
      "|1932    |43441  |\n",
      "|1917    |18263  |\n",
      "|1914    |21190  |\n",
      "|1922    |25820  |\n",
      "|1906    |17687  |\n",
      "|1946    |61664  |\n",
      "|1907    |19496  |\n",
      "|1981    |775630 |\n",
      "|1941    |41008  |\n",
      "|1996    |1272196|\n",
      "|1992    |1060808|\n",
      "|2008    |2121678|\n",
      "|1965    |288761 |\n",
      "|1927    |35669  |\n",
      "|1961    |179267 |\n",
      "|1943    |34834  |\n",
      "|1993    |1103283|\n",
      "|1901    |17506  |\n",
      "|1939    |45475  |\n",
      "|1989    |927850 |\n",
      "|1916    |19572  |\n",
      "|1904    |19318  |\n",
      "|2001    |1326893|\n",
      "|2000    |1348030|\n",
      "|1985    |893646 |\n",
      "|1990    |1007106|\n",
      "|1952    |106674 |\n",
      "|1929    |39191  |\n",
      "|2015    |2825216|\n",
      "+--------+-------+\n",
      "\n"
     ]
    },
    {
     "data": {
      "text/plain": [
       "yearCount = [_pubyear: bigint, count: bigint]\n"
      ]
     },
     "metadata": {},
     "output_type": "display_data"
    },
    {
     "data": {
      "text/plain": [
       "[_pubyear: bigint, count: bigint]"
      ]
     },
     "execution_count": 11,
     "metadata": {},
     "output_type": "execute_result"
    }
   ],
   "source": [
    "val yearCount = WoS2.groupBy(\"_pubyear\").count()\n",
    "yearCount.show(yearCount.count.toInt, false)"
   ]
  },
  {
   "cell_type": "code",
   "execution_count": 12,
   "metadata": {},
   "outputs": [
    {
     "name": "stdout",
     "output_type": "stream",
     "text": [
      "root\n",
      " |-- UID: string (nullable = true)\n",
      " |-- _r_id_disclaimer: string (nullable = true)\n",
      " |-- abstracts: struct (nullable = true)\n",
      " |    |-- _count: long (nullable = true)\n",
      " |    |-- abstract: struct (nullable = true)\n",
      " |    |    |-- abstract_text: struct (nullable = true)\n",
      " |    |    |    |-- _count: long (nullable = true)\n",
      " |    |    |    |-- p: array (nullable = true)\n",
      " |    |    |    |    |-- element: string (containsNull = true)\n",
      " |-- addresses: struct (nullable = true)\n",
      " |    |-- _VALUE: string (nullable = true)\n",
      " |    |-- _count: long (nullable = true)\n",
      " |    |-- address_name: array (nullable = true)\n",
      " |    |    |-- element: struct (containsNull = true)\n",
      " |    |    |    |-- address_spec: struct (nullable = true)\n",
      " |    |    |    |    |-- _addr_no: long (nullable = true)\n",
      " |    |    |    |    |-- city: string (nullable = true)\n",
      " |    |    |    |    |-- country: string (nullable = true)\n",
      " |    |    |    |    |-- full_address: string (nullable = true)\n",
      " |    |    |    |    |-- organizations: struct (nullable = true)\n",
      " |    |    |    |    |    |-- _count: long (nullable = true)\n",
      " |    |    |    |    |    |-- organization: array (nullable = true)\n",
      " |    |    |    |    |    |    |-- element: struct (containsNull = true)\n",
      " |    |    |    |    |    |    |    |-- _VALUE: string (nullable = true)\n",
      " |    |    |    |    |    |    |    |-- _pref: string (nullable = true)\n",
      " |    |    |    |    |-- state: string (nullable = true)\n",
      " |    |    |    |    |-- street: string (nullable = true)\n",
      " |    |    |    |    |-- suborganizations: struct (nullable = true)\n",
      " |    |    |    |    |    |-- _count: long (nullable = true)\n",
      " |    |    |    |    |    |-- suborganization: array (nullable = true)\n",
      " |    |    |    |    |    |    |-- element: string (containsNull = true)\n",
      " |    |    |    |    |-- zip: array (nullable = true)\n",
      " |    |    |    |    |    |-- element: struct (containsNull = true)\n",
      " |    |    |    |    |    |    |-- _VALUE: string (nullable = true)\n",
      " |    |    |    |    |    |    |-- _location: string (nullable = true)\n",
      " |    |    |    |-- names: struct (nullable = true)\n",
      " |    |    |    |    |-- _count: long (nullable = true)\n",
      " |    |    |    |    |-- name: array (nullable = true)\n",
      " |    |    |    |    |    |-- element: struct (containsNull = true)\n",
      " |    |    |    |    |    |    |-- _addr_no: long (nullable = true)\n",
      " |    |    |    |    |    |    |-- _orcid_id_tr: string (nullable = true)\n",
      " |    |    |    |    |    |    |-- _reprint: string (nullable = true)\n",
      " |    |    |    |    |    |    |-- _role: string (nullable = true)\n",
      " |    |    |    |    |    |    |-- _seq_no: long (nullable = true)\n",
      " |    |    |    |    |    |    |-- display_name: string (nullable = true)\n",
      " |    |    |    |    |    |    |-- email_addr: string (nullable = true)\n",
      " |    |    |    |    |    |    |-- first_name: string (nullable = true)\n",
      " |    |    |    |    |    |    |-- full_name: string (nullable = true)\n",
      " |    |    |    |    |    |    |-- last_name: string (nullable = true)\n",
      " |    |    |    |    |    |    |-- suffix: string (nullable = true)\n",
      " |    |    |    |    |    |    |-- wos_standard: string (nullable = true)\n",
      " |-- category_info: struct (nullable = true)\n",
      " |    |-- headings: struct (nullable = true)\n",
      " |    |    |-- _count: long (nullable = true)\n",
      " |    |    |-- heading: array (nullable = true)\n",
      " |    |    |    |-- element: string (containsNull = true)\n",
      " |    |-- subheadings: struct (nullable = true)\n",
      " |    |    |-- _count: long (nullable = true)\n",
      " |    |    |-- subheading: array (nullable = true)\n",
      " |    |    |    |-- element: string (containsNull = true)\n",
      " |    |-- subjects: struct (nullable = true)\n",
      " |    |    |-- _count: long (nullable = true)\n",
      " |    |    |-- subject: array (nullable = true)\n",
      " |    |    |    |-- element: struct (containsNull = true)\n",
      " |    |    |    |    |-- _VALUE: string (nullable = true)\n",
      " |    |    |    |    |-- _ascatype: string (nullable = true)\n",
      " |-- citedWork: string (nullable = true)\n",
      " |-- contributors: struct (nullable = true)\n",
      " |    |-- _count: long (nullable = true)\n",
      " |    |-- contributor: array (nullable = true)\n",
      " |    |    |-- element: struct (containsNull = true)\n",
      " |    |    |    |-- name: struct (nullable = true)\n",
      " |    |    |    |    |-- _orcid_id: string (nullable = true)\n",
      " |    |    |    |    |-- _r_id: string (nullable = true)\n",
      " |    |    |    |    |-- _role: string (nullable = true)\n",
      " |    |    |    |    |-- _seq_no: long (nullable = true)\n",
      " |    |    |    |    |-- display_name: string (nullable = true)\n",
      " |    |    |    |    |-- first_name: string (nullable = true)\n",
      " |    |    |    |    |-- full_name: string (nullable = true)\n",
      " |    |    |    |    |-- last_name: string (nullable = true)\n",
      " |-- dynamic_data: struct (nullable = true)\n",
      " |    |-- cluster_related: struct (nullable = true)\n",
      " |    |    |-- identifiers: struct (nullable = true)\n",
      " |    |    |    |-- identifier: array (nullable = true)\n",
      " |    |    |    |    |-- element: struct (containsNull = true)\n",
      " |    |    |    |    |    |-- _VALUE: string (nullable = true)\n",
      " |    |    |    |    |    |-- _type: string (nullable = true)\n",
      " |    |    |    |    |    |-- _value: string (nullable = true)\n",
      " |-- fund_ack: struct (nullable = true)\n",
      " |    |-- fund_text: struct (nullable = true)\n",
      " |    |    |-- p: array (nullable = true)\n",
      " |    |    |    |-- element: string (containsNull = true)\n",
      " |    |-- grants: struct (nullable = true)\n",
      " |    |    |-- _count: long (nullable = true)\n",
      " |    |    |-- grant: array (nullable = true)\n",
      " |    |    |    |-- element: struct (containsNull = true)\n",
      " |    |    |    |    |-- grant_agency: string (nullable = true)\n",
      " |    |    |    |    |-- grant_ids: struct (nullable = true)\n",
      " |    |    |    |    |    |-- _count: long (nullable = true)\n",
      " |    |    |    |    |    |-- grant_id: array (nullable = true)\n",
      " |    |    |    |    |    |    |-- element: string (containsNull = true)\n",
      " |-- i: long (nullable = true)\n",
      " |-- item: struct (nullable = true)\n",
      " |    |-- _type: string (nullable = true)\n",
      " |    |-- _xsi: string (nullable = true)\n",
      " |    |-- bib_id: string (nullable = true)\n",
      " |    |-- bib_pagecount: struct (nullable = true)\n",
      " |    |    |-- _VALUE: long (nullable = true)\n",
      " |    |    |-- _type: string (nullable = true)\n",
      " |    |-- book_chapters: long (nullable = true)\n",
      " |    |-- book_desc: array (nullable = true)\n",
      " |    |    |-- element: struct (containsNull = true)\n",
      " |    |    |    |-- bk_binding: string (nullable = true)\n",
      " |    |    |    |-- bk_ordering: string (nullable = true)\n",
      " |    |    |    |-- bk_prepay: string (nullable = true)\n",
      " |    |    |    |-- bk_price: struct (nullable = true)\n",
      " |    |    |    |    |-- _VALUE: string (nullable = true)\n",
      " |    |    |    |    |-- _amount: double (nullable = true)\n",
      " |    |    |    |    |-- _currency: string (nullable = true)\n",
      " |    |    |    |    |-- _desc: string (nullable = true)\n",
      " |    |    |    |    |-- _volumes: long (nullable = true)\n",
      " |    |    |    |-- bk_publisher: string (nullable = true)\n",
      " |    |-- book_notes: struct (nullable = true)\n",
      " |    |    |-- _count: long (nullable = true)\n",
      " |    |    |-- book_note: array (nullable = true)\n",
      " |    |    |    |-- element: string (containsNull = true)\n",
      " |    |-- book_pages: long (nullable = true)\n",
      " |    |-- ids: struct (nullable = true)\n",
      " |    |    |-- _VALUE: string (nullable = true)\n",
      " |    |    |-- _avail: string (nullable = true)\n",
      " |    |-- keywords_plus: struct (nullable = true)\n",
      " |    |    |-- _count: long (nullable = true)\n",
      " |    |    |-- keyword: array (nullable = true)\n",
      " |    |    |    |-- element: string (containsNull = true)\n",
      " |    |-- reprint_contact: struct (nullable = true)\n",
      " |    |    |-- address_spec: struct (nullable = true)\n",
      " |    |    |    |-- _addr_no: long (nullable = true)\n",
      " |    |    |    |-- city: string (nullable = true)\n",
      " |    |    |    |-- country: string (nullable = true)\n",
      " |    |    |    |-- full_address: string (nullable = true)\n",
      " |    |    |    |-- organizations: struct (nullable = true)\n",
      " |    |    |    |    |-- _count: long (nullable = true)\n",
      " |    |    |    |    |-- organization: array (nullable = true)\n",
      " |    |    |    |    |    |-- element: struct (containsNull = true)\n",
      " |    |    |    |    |    |    |-- _VALUE: string (nullable = true)\n",
      " |    |    |    |    |    |    |-- _pref: string (nullable = true)\n",
      " |    |    |    |-- state: string (nullable = true)\n",
      " |    |    |    |-- street: string (nullable = true)\n",
      " |    |    |    |-- suborganizations: struct (nullable = true)\n",
      " |    |    |    |    |-- _count: long (nullable = true)\n",
      " |    |    |    |    |-- suborganization: array (nullable = true)\n",
      " |    |    |    |    |    |-- element: string (containsNull = true)\n",
      " |    |    |    |-- zip: array (nullable = true)\n",
      " |    |    |    |    |-- element: struct (containsNull = true)\n",
      " |    |    |    |    |    |-- _VALUE: string (nullable = true)\n",
      " |    |    |    |    |    |-- _location: string (nullable = true)\n",
      " |    |    |-- names: struct (nullable = true)\n",
      " |    |    |    |-- _count: long (nullable = true)\n",
      " |    |    |    |-- name: struct (nullable = true)\n",
      " |    |    |    |    |-- _addr_no: long (nullable = true)\n",
      " |    |    |    |    |-- _display: string (nullable = true)\n",
      " |    |    |    |    |-- _reprint: string (nullable = true)\n",
      " |    |    |    |    |-- _role: string (nullable = true)\n",
      " |    |    |    |    |-- _seq_no: long (nullable = true)\n",
      " |    |    |    |    |-- display_name: string (nullable = true)\n",
      " |    |    |    |    |-- email_addr: string (nullable = true)\n",
      " |    |    |    |    |-- first_name: string (nullable = true)\n",
      " |    |    |    |    |-- full_name: string (nullable = true)\n",
      " |    |    |    |    |-- last_name: string (nullable = true)\n",
      " |    |    |    |    |-- suffix: string (nullable = true)\n",
      " |    |    |    |    |-- wos_standard: string (nullable = true)\n",
      " |    |-- reviewed_work: struct (nullable = true)\n",
      " |    |    |-- languages: struct (nullable = true)\n",
      " |    |    |    |-- _count: long (nullable = true)\n",
      " |    |    |    |-- language: string (nullable = true)\n",
      " |    |    |-- rw_authors: struct (nullable = true)\n",
      " |    |    |    |-- _count: long (nullable = true)\n",
      " |    |    |    |-- rw_author: array (nullable = true)\n",
      " |    |    |    |    |-- element: string (containsNull = true)\n",
      " |    |    |-- rw_year: long (nullable = true)\n",
      " |-- keywords: struct (nullable = true)\n",
      " |    |-- _count: long (nullable = true)\n",
      " |    |-- keyword: array (nullable = true)\n",
      " |    |    |-- element: string (containsNull = true)\n",
      " |-- reference: array (nullable = true)\n",
      " |    |-- element: struct (containsNull = true)\n",
      " |    |    |-- art_no: string (nullable = true)\n",
      " |    |    |-- citedAuthor: string (nullable = true)\n",
      " |    |    |-- citedTitle: string (nullable = true)\n",
      " |    |    |-- citedWork: string (nullable = true)\n",
      " |    |    |-- doi: string (nullable = true)\n",
      " |    |    |-- i: array (nullable = true)\n",
      " |    |    |    |-- element: string (containsNull = true)\n",
      " |    |    |-- page: string (nullable = true)\n",
      " |    |    |-- patent_no: string (nullable = true)\n",
      " |    |    |-- sub: array (nullable = true)\n",
      " |    |    |    |-- element: string (containsNull = true)\n",
      " |    |    |-- sup: array (nullable = true)\n",
      " |    |    |    |-- element: string (containsNull = true)\n",
      " |    |    |-- uid: string (nullable = true)\n",
      " |    |    |-- volume: string (nullable = true)\n",
      " |    |    |-- year: string (nullable = true)\n",
      " |-- static_data: struct (nullable = true)\n",
      " |    |-- abstracts: struct (nullable = true)\n",
      " |    |    |-- _count: long (nullable = true)\n",
      " |    |    |-- abstract: struct (nullable = true)\n",
      " |    |    |    |-- abstract_text: struct (nullable = true)\n",
      " |    |    |    |    |-- _count: long (nullable = true)\n",
      " |    |    |    |    |-- p: array (nullable = true)\n",
      " |    |    |    |    |    |-- element: string (containsNull = true)\n",
      " |    |-- addresses: struct (nullable = true)\n",
      " |    |    |-- _VALUE: string (nullable = true)\n",
      " |    |    |-- _count: long (nullable = true)\n",
      " |    |    |-- address_name: array (nullable = true)\n",
      " |    |    |    |-- element: struct (containsNull = true)\n",
      " |    |    |    |    |-- address_spec: struct (nullable = true)\n",
      " |    |    |    |    |    |-- _addr_no: long (nullable = true)\n",
      " |    |    |    |    |    |-- city: string (nullable = true)\n",
      " |    |    |    |    |    |-- country: string (nullable = true)\n",
      " |    |    |    |    |    |-- full_address: string (nullable = true)\n",
      " |    |    |    |    |    |-- organizations: struct (nullable = true)\n",
      " |    |    |    |    |    |    |-- _count: long (nullable = true)\n",
      " |    |    |    |    |    |    |-- organization: array (nullable = true)\n",
      " |    |    |    |    |    |    |    |-- element: struct (containsNull = true)\n",
      " |    |    |    |    |    |    |    |    |-- _VALUE: string (nullable = true)\n",
      " |    |    |    |    |    |    |    |    |-- _pref: string (nullable = true)\n",
      " |    |    |    |    |    |-- state: string (nullable = true)\n",
      " |    |    |    |    |    |-- street: string (nullable = true)\n",
      " |    |    |    |    |    |-- suborganizations: struct (nullable = true)\n",
      " |    |    |    |    |    |    |-- _count: long (nullable = true)\n",
      " |    |    |    |    |    |    |-- suborganization: array (nullable = true)\n",
      " |    |    |    |    |    |    |    |-- element: string (containsNull = true)\n",
      " |    |    |    |    |    |-- zip: array (nullable = true)\n",
      " |    |    |    |    |    |    |-- element: struct (containsNull = true)\n",
      " |    |    |    |    |    |    |    |-- _VALUE: string (nullable = true)\n",
      " |    |    |    |    |    |    |    |-- _location: string (nullable = true)\n",
      " |    |    |    |    |-- names: struct (nullable = true)\n",
      " |    |    |    |    |    |-- _count: long (nullable = true)\n",
      " |    |    |    |    |    |-- name: array (nullable = true)\n",
      " |    |    |    |    |    |    |-- element: struct (containsNull = true)\n",
      " |    |    |    |    |    |    |    |-- _addr_no: long (nullable = true)\n",
      " |    |    |    |    |    |    |    |-- _orcid_id_tr: string (nullable = true)\n",
      " |    |    |    |    |    |    |    |-- _reprint: string (nullable = true)\n",
      " |    |    |    |    |    |    |    |-- _role: string (nullable = true)\n",
      " |    |    |    |    |    |    |    |-- _seq_no: long (nullable = true)\n",
      " |    |    |    |    |    |    |    |-- display_name: string (nullable = true)\n",
      " |    |    |    |    |    |    |    |-- email_addr: string (nullable = true)\n",
      " |    |    |    |    |    |    |    |-- first_name: string (nullable = true)\n",
      " |    |    |    |    |    |    |    |-- full_name: string (nullable = true)\n",
      " |    |    |    |    |    |    |    |-- last_name: string (nullable = true)\n",
      " |    |    |    |    |    |    |    |-- suffix: string (nullable = true)\n",
      " |    |    |    |    |    |    |    |-- wos_standard: string (nullable = true)\n",
      " |    |-- category_info: struct (nullable = true)\n",
      " |    |    |-- headings: struct (nullable = true)\n",
      " |    |    |    |-- _count: long (nullable = true)\n",
      " |    |    |    |-- heading: array (nullable = true)\n",
      " |    |    |    |    |-- element: string (containsNull = true)\n",
      " |    |    |-- subheadings: struct (nullable = true)\n",
      " |    |    |    |-- _count: long (nullable = true)\n",
      " |    |    |    |-- subheading: array (nullable = true)\n",
      " |    |    |    |    |-- element: string (containsNull = true)\n",
      " |    |    |-- subjects: struct (nullable = true)\n",
      " |    |    |    |-- _count: long (nullable = true)\n",
      " |    |    |    |-- subject: array (nullable = true)\n",
      " |    |    |    |    |-- element: struct (containsNull = true)\n",
      " |    |    |    |    |    |-- _VALUE: string (nullable = true)\n",
      " |    |    |    |    |    |-- _ascatype: string (nullable = true)\n",
      " |    |-- citedWork: string (nullable = true)\n",
      " |    |-- contributors: struct (nullable = true)\n",
      " |    |    |-- _count: long (nullable = true)\n",
      " |    |    |-- contributor: array (nullable = true)\n",
      " |    |    |    |-- element: struct (containsNull = true)\n",
      " |    |    |    |    |-- name: struct (nullable = true)\n",
      " |    |    |    |    |    |-- _orcid_id: string (nullable = true)\n",
      " |    |    |    |    |    |-- _r_id: string (nullable = true)\n",
      " |    |    |    |    |    |-- _role: string (nullable = true)\n",
      " |    |    |    |    |    |-- _seq_no: long (nullable = true)\n",
      " |    |    |    |    |    |-- display_name: string (nullable = true)\n",
      " |    |    |    |    |    |-- first_name: string (nullable = true)\n",
      " |    |    |    |    |    |-- full_name: string (nullable = true)\n",
      " |    |    |    |    |    |-- last_name: string (nullable = true)\n",
      " |    |-- fullrecord_metadata: struct (nullable = true)\n",
      " |    |    |-- abstracts: struct (nullable = true)\n",
      " |    |    |    |-- _count: long (nullable = true)\n",
      " |    |    |    |-- abstract: struct (nullable = true)\n",
      " |    |    |    |    |-- abstract_text: struct (nullable = true)\n",
      " |    |    |    |    |    |-- _count: long (nullable = true)\n",
      " |    |    |    |    |    |-- p: array (nullable = true)\n",
      " |    |    |    |    |    |    |-- element: string (containsNull = true)\n",
      " |    |    |-- addresses: struct (nullable = true)\n",
      " |    |    |    |-- _VALUE: string (nullable = true)\n",
      " |    |    |    |-- _count: long (nullable = true)\n",
      " |    |    |    |-- address_name: array (nullable = true)\n",
      " |    |    |    |    |-- element: struct (containsNull = true)\n",
      " |    |    |    |    |    |-- address_spec: struct (nullable = true)\n",
      " |    |    |    |    |    |    |-- _addr_no: long (nullable = true)\n",
      " |    |    |    |    |    |    |-- city: string (nullable = true)\n",
      " |    |    |    |    |    |    |-- country: string (nullable = true)\n",
      " |    |    |    |    |    |    |-- full_address: string (nullable = true)\n",
      " |    |    |    |    |    |    |-- organizations: struct (nullable = true)\n",
      " |    |    |    |    |    |    |    |-- _count: long (nullable = true)\n",
      " |    |    |    |    |    |    |    |-- organization: array (nullable = true)\n",
      " |    |    |    |    |    |    |    |    |-- element: struct (containsNull = true)\n",
      " |    |    |    |    |    |    |    |    |    |-- _VALUE: string (nullable = true)\n",
      " |    |    |    |    |    |    |    |    |    |-- _pref: string (nullable = true)\n",
      " |    |    |    |    |    |    |-- state: string (nullable = true)\n",
      " |    |    |    |    |    |    |-- street: string (nullable = true)\n",
      " |    |    |    |    |    |    |-- suborganizations: struct (nullable = true)\n",
      " |    |    |    |    |    |    |    |-- _count: long (nullable = true)\n",
      " |    |    |    |    |    |    |    |-- suborganization: array (nullable = true)\n",
      " |    |    |    |    |    |    |    |    |-- element: string (containsNull = true)\n",
      " |    |    |    |    |    |    |-- zip: array (nullable = true)\n",
      " |    |    |    |    |    |    |    |-- element: struct (containsNull = true)\n",
      " |    |    |    |    |    |    |    |    |-- _VALUE: string (nullable = true)\n",
      " |    |    |    |    |    |    |    |    |-- _location: string (nullable = true)\n",
      " |    |    |    |    |    |-- names: struct (nullable = true)\n",
      " |    |    |    |    |    |    |-- _count: long (nullable = true)\n",
      " |    |    |    |    |    |    |-- name: array (nullable = true)\n",
      " |    |    |    |    |    |    |    |-- element: struct (containsNull = true)\n",
      " |    |    |    |    |    |    |    |    |-- _addr_no: long (nullable = true)\n",
      " |    |    |    |    |    |    |    |    |-- _orcid_id_tr: string (nullable = true)\n",
      " |    |    |    |    |    |    |    |    |-- _r_id_tr: string (nullable = true)\n",
      " |    |    |    |    |    |    |    |    |-- _reprint: string (nullable = true)\n",
      " |    |    |    |    |    |    |    |    |-- _role: string (nullable = true)\n",
      " |    |    |    |    |    |    |    |    |-- _seq_no: long (nullable = true)\n",
      " |    |    |    |    |    |    |    |    |-- display_name: string (nullable = true)\n",
      " |    |    |    |    |    |    |    |    |-- email_addr: string (nullable = true)\n",
      " |    |    |    |    |    |    |    |    |-- first_name: string (nullable = true)\n",
      " |    |    |    |    |    |    |    |    |-- full_name: string (nullable = true)\n",
      " |    |    |    |    |    |    |    |    |-- last_name: string (nullable = true)\n",
      " |    |    |    |    |    |    |    |    |-- suffix: string (nullable = true)\n",
      " |    |    |    |    |    |    |    |    |-- wos_standard: string (nullable = true)\n",
      " |    |    |-- category_info: struct (nullable = true)\n",
      " |    |    |    |-- headings: struct (nullable = true)\n",
      " |    |    |    |    |-- _count: long (nullable = true)\n",
      " |    |    |    |    |-- heading: array (nullable = true)\n",
      " |    |    |    |    |    |-- element: string (containsNull = true)\n",
      " |    |    |    |-- subheadings: struct (nullable = true)\n",
      " |    |    |    |    |-- _count: long (nullable = true)\n",
      " |    |    |    |    |-- subheading: array (nullable = true)\n",
      " |    |    |    |    |    |-- element: string (containsNull = true)\n",
      " |    |    |    |-- subjects: struct (nullable = true)\n",
      " |    |    |    |    |-- _count: long (nullable = true)\n",
      " |    |    |    |    |-- subject: array (nullable = true)\n",
      " |    |    |    |    |    |-- element: struct (containsNull = true)\n",
      " |    |    |    |    |    |    |-- _VALUE: string (nullable = true)\n",
      " |    |    |    |    |    |    |-- _ascatype: string (nullable = true)\n",
      " |    |    |-- citedWork: string (nullable = true)\n",
      " |    |    |-- fund_ack: struct (nullable = true)\n",
      " |    |    |    |-- fund_text: struct (nullable = true)\n",
      " |    |    |    |    |-- p: array (nullable = true)\n",
      " |    |    |    |    |    |-- element: string (containsNull = true)\n",
      " |    |    |    |-- grants: struct (nullable = true)\n",
      " |    |    |    |    |-- _count: long (nullable = true)\n",
      " |    |    |    |    |-- grant: array (nullable = true)\n",
      " |    |    |    |    |    |-- element: struct (containsNull = true)\n",
      " |    |    |    |    |    |    |-- grant_agency: string (nullable = true)\n",
      " |    |    |    |    |    |    |-- grant_ids: struct (nullable = true)\n",
      " |    |    |    |    |    |    |    |-- _count: long (nullable = true)\n",
      " |    |    |    |    |    |    |    |-- grant_id: array (nullable = true)\n",
      " |    |    |    |    |    |    |    |    |-- element: string (containsNull = true)\n",
      " |    |    |-- i: array (nullable = true)\n",
      " |    |    |    |-- element: string (containsNull = true)\n",
      " |    |    |-- keywords: struct (nullable = true)\n",
      " |    |    |    |-- _count: long (nullable = true)\n",
      " |    |    |    |-- keyword: array (nullable = true)\n",
      " |    |    |    |    |-- element: string (containsNull = true)\n",
      " |    |    |-- languages: struct (nullable = true)\n",
      " |    |    |    |-- _count: long (nullable = true)\n",
      " |    |    |    |-- language: array (nullable = true)\n",
      " |    |    |    |    |-- element: struct (containsNull = true)\n",
      " |    |    |    |    |    |-- _VALUE: string (nullable = true)\n",
      " |    |    |    |    |    |-- _type: string (nullable = true)\n",
      " |    |    |-- normalized_doctypes: struct (nullable = true)\n",
      " |    |    |    |-- _count: long (nullable = true)\n",
      " |    |    |    |-- doctype: array (nullable = true)\n",
      " |    |    |    |    |-- element: string (containsNull = true)\n",
      " |    |    |-- normalized_languages: struct (nullable = true)\n",
      " |    |    |    |-- _count: long (nullable = true)\n",
      " |    |    |    |-- language: array (nullable = true)\n",
      " |    |    |    |    |-- element: struct (containsNull = true)\n",
      " |    |    |    |    |    |-- _VALUE: string (nullable = true)\n",
      " |    |    |    |    |    |-- _type: string (nullable = true)\n",
      " |    |    |-- reference: array (nullable = true)\n",
      " |    |    |    |-- element: struct (containsNull = true)\n",
      " |    |    |    |    |-- art_no: string (nullable = true)\n",
      " |    |    |    |    |-- citedAuthor: string (nullable = true)\n",
      " |    |    |    |    |-- citedTitle: string (nullable = true)\n",
      " |    |    |    |    |-- citedWork: string (nullable = true)\n",
      " |    |    |    |    |-- doi: string (nullable = true)\n",
      " |    |    |    |    |-- i: array (nullable = true)\n",
      " |    |    |    |    |    |-- element: string (containsNull = true)\n",
      " |    |    |    |    |-- page: string (nullable = true)\n",
      " |    |    |    |    |-- patent_no: string (nullable = true)\n",
      " |    |    |    |    |-- sub: array (nullable = true)\n",
      " |    |    |    |    |    |-- element: string (containsNull = true)\n",
      " |    |    |    |    |-- sup: array (nullable = true)\n",
      " |    |    |    |    |    |-- element: string (containsNull = true)\n",
      " |    |    |    |    |-- uid: string (nullable = true)\n",
      " |    |    |    |    |-- volume: string (nullable = true)\n",
      " |    |    |    |    |-- year: string (nullable = true)\n",
      " |    |    |-- references: struct (nullable = true)\n",
      " |    |    |    |-- _VALUE: string (nullable = true)\n",
      " |    |    |    |-- _count: long (nullable = true)\n",
      " |    |    |    |-- citedWork: string (nullable = true)\n",
      " |    |    |    |-- i: array (nullable = true)\n",
      " |    |    |    |    |-- element: string (containsNull = true)\n",
      " |    |    |    |-- reference: array (nullable = true)\n",
      " |    |    |    |    |-- element: struct (containsNull = true)\n",
      " |    |    |    |    |    |-- art_no: string (nullable = true)\n",
      " |    |    |    |    |    |-- citedAuthor: string (nullable = true)\n",
      " |    |    |    |    |    |-- citedTitle: string (nullable = true)\n",
      " |    |    |    |    |    |-- citedWork: string (nullable = true)\n",
      " |    |    |    |    |    |-- doi: string (nullable = true)\n",
      " |    |    |    |    |    |-- i: array (nullable = true)\n",
      " |    |    |    |    |    |    |-- element: string (containsNull = true)\n",
      " |    |    |    |    |    |-- page: string (nullable = true)\n",
      " |    |    |    |    |    |-- patent_no: string (nullable = true)\n",
      " |    |    |    |    |    |-- sub: array (nullable = true)\n",
      " |    |    |    |    |    |    |-- element: string (containsNull = true)\n",
      " |    |    |    |    |    |-- sup: array (nullable = true)\n",
      " |    |    |    |    |    |    |-- element: string (containsNull = true)\n",
      " |    |    |    |    |    |-- uid: string (nullable = true)\n",
      " |    |    |    |    |    |-- volume: string (nullable = true)\n",
      " |    |    |    |    |    |-- year: string (nullable = true)\n",
      " |    |    |    |-- sub: array (nullable = true)\n",
      " |    |    |    |    |-- element: string (containsNull = true)\n",
      " |    |    |    |-- sup: string (nullable = true)\n",
      " |    |    |-- sub: long (nullable = true)\n",
      " |    |-- fund_ack: struct (nullable = true)\n",
      " |    |    |-- fund_text: struct (nullable = true)\n",
      " |    |    |    |-- p: array (nullable = true)\n",
      " |    |    |    |    |-- element: string (containsNull = true)\n",
      " |    |    |-- grants: struct (nullable = true)\n",
      " |    |    |    |-- _count: long (nullable = true)\n",
      " |    |    |    |-- grant: array (nullable = true)\n",
      " |    |    |    |    |-- element: struct (containsNull = true)\n",
      " |    |    |    |    |    |-- grant_agency: string (nullable = true)\n",
      " |    |    |    |    |    |-- grant_ids: struct (nullable = true)\n",
      " |    |    |    |    |    |    |-- _count: long (nullable = true)\n",
      " |    |    |    |    |    |    |-- grant_id: array (nullable = true)\n",
      " |    |    |    |    |    |    |    |-- element: string (containsNull = true)\n",
      " |    |-- i: array (nullable = true)\n",
      " |    |    |-- element: string (containsNull = true)\n",
      " |    |-- item: struct (nullable = true)\n",
      " |    |    |-- _type: string (nullable = true)\n",
      " |    |    |-- _xsi: string (nullable = true)\n",
      " |    |    |-- bib_id: string (nullable = true)\n",
      " |    |    |-- bib_pagecount: struct (nullable = true)\n",
      " |    |    |    |-- _VALUE: long (nullable = true)\n",
      " |    |    |    |-- _type: string (nullable = true)\n",
      " |    |    |-- book_chapters: long (nullable = true)\n",
      " |    |    |-- book_desc: array (nullable = true)\n",
      " |    |    |    |-- element: struct (containsNull = true)\n",
      " |    |    |    |    |-- bk_binding: string (nullable = true)\n",
      " |    |    |    |    |-- bk_ordering: string (nullable = true)\n",
      " |    |    |    |    |-- bk_prepay: string (nullable = true)\n",
      " |    |    |    |    |-- bk_price: struct (nullable = true)\n",
      " |    |    |    |    |    |-- _VALUE: string (nullable = true)\n",
      " |    |    |    |    |    |-- _amount: double (nullable = true)\n",
      " |    |    |    |    |    |-- _currency: string (nullable = true)\n",
      " |    |    |    |    |    |-- _desc: string (nullable = true)\n",
      " |    |    |    |    |    |-- _volumes: long (nullable = true)\n",
      " |    |    |    |    |-- bk_publisher: string (nullable = true)\n",
      " |    |    |-- book_notes: struct (nullable = true)\n",
      " |    |    |    |-- _count: long (nullable = true)\n",
      " |    |    |    |-- book_note: array (nullable = true)\n",
      " |    |    |    |    |-- element: string (containsNull = true)\n",
      " |    |    |-- book_pages: long (nullable = true)\n",
      " |    |    |-- ids: struct (nullable = true)\n",
      " |    |    |    |-- _VALUE: string (nullable = true)\n",
      " |    |    |    |-- _avail: string (nullable = true)\n",
      " |    |    |-- keywords_plus: struct (nullable = true)\n",
      " |    |    |    |-- _count: long (nullable = true)\n",
      " |    |    |    |-- keyword: array (nullable = true)\n",
      " |    |    |    |    |-- element: string (containsNull = true)\n",
      " |    |    |-- reprint_contact: struct (nullable = true)\n",
      " |    |    |    |-- address_spec: struct (nullable = true)\n",
      " |    |    |    |    |-- _addr_no: long (nullable = true)\n",
      " |    |    |    |    |-- city: string (nullable = true)\n",
      " |    |    |    |    |-- country: string (nullable = true)\n",
      " |    |    |    |    |-- full_address: string (nullable = true)\n",
      " |    |    |    |    |-- organizations: struct (nullable = true)\n",
      " |    |    |    |    |    |-- _count: long (nullable = true)\n",
      " |    |    |    |    |    |-- organization: array (nullable = true)\n",
      " |    |    |    |    |    |    |-- element: struct (containsNull = true)\n",
      " |    |    |    |    |    |    |    |-- _VALUE: string (nullable = true)\n",
      " |    |    |    |    |    |    |    |-- _pref: string (nullable = true)\n",
      " |    |    |    |    |-- state: string (nullable = true)\n",
      " |    |    |    |    |-- street: string (nullable = true)\n",
      " |    |    |    |    |-- suborganizations: struct (nullable = true)\n",
      " |    |    |    |    |    |-- _count: long (nullable = true)\n",
      " |    |    |    |    |    |-- suborganization: array (nullable = true)\n",
      " |    |    |    |    |    |    |-- element: string (containsNull = true)\n",
      " |    |    |    |    |-- zip: array (nullable = true)\n",
      " |    |    |    |    |    |-- element: struct (containsNull = true)\n",
      " |    |    |    |    |    |    |-- _VALUE: string (nullable = true)\n",
      " |    |    |    |    |    |    |-- _location: string (nullable = true)\n",
      " |    |    |    |-- names: struct (nullable = true)\n",
      " |    |    |    |    |-- _count: long (nullable = true)\n",
      " |    |    |    |    |-- name: struct (nullable = true)\n",
      " |    |    |    |    |    |-- _addr_no: long (nullable = true)\n",
      " |    |    |    |    |    |-- _display: string (nullable = true)\n",
      " |    |    |    |    |    |-- _reprint: string (nullable = true)\n",
      " |    |    |    |    |    |-- _role: string (nullable = true)\n",
      " |    |    |    |    |    |-- _seq_no: long (nullable = true)\n",
      " |    |    |    |    |    |-- display_name: string (nullable = true)\n",
      " |    |    |    |    |    |-- email_addr: string (nullable = true)\n",
      " |    |    |    |    |    |-- first_name: string (nullable = true)\n",
      " |    |    |    |    |    |-- full_name: string (nullable = true)\n",
      " |    |    |    |    |    |-- last_name: string (nullable = true)\n",
      " |    |    |    |    |    |-- suffix: string (nullable = true)\n",
      " |    |    |    |    |    |-- wos_standard: string (nullable = true)\n",
      " |    |    |-- reviewed_work: struct (nullable = true)\n",
      " |    |    |    |-- languages: struct (nullable = true)\n",
      " |    |    |    |    |-- _count: long (nullable = true)\n",
      " |    |    |    |    |-- language: array (nullable = true)\n",
      " |    |    |    |    |    |-- element: string (containsNull = true)\n",
      " |    |    |    |-- rw_authors: struct (nullable = true)\n",
      " |    |    |    |    |-- _count: long (nullable = true)\n",
      " |    |    |    |    |-- rw_author: array (nullable = true)\n",
      " |    |    |    |    |    |-- element: string (containsNull = true)\n",
      " |    |    |    |-- rw_year: double (nullable = true)\n",
      " |    |-- keywords: struct (nullable = true)\n",
      " |    |    |-- _count: long (nullable = true)\n",
      " |    |    |-- keyword: array (nullable = true)\n",
      " |    |    |    |-- element: string (containsNull = true)\n",
      " |    |-- reference: array (nullable = true)\n",
      " |    |    |-- element: struct (containsNull = true)\n",
      " |    |    |    |-- art_no: string (nullable = true)\n",
      " |    |    |    |-- citedAuthor: string (nullable = true)\n",
      " |    |    |    |-- citedTitle: string (nullable = true)\n",
      " |    |    |    |-- citedWork: string (nullable = true)\n",
      " |    |    |    |-- doi: string (nullable = true)\n",
      " |    |    |    |-- i: array (nullable = true)\n",
      " |    |    |    |    |-- element: string (containsNull = true)\n",
      " |    |    |    |-- page: string (nullable = true)\n",
      " |    |    |    |-- patent_no: string (nullable = true)\n",
      " |    |    |    |-- sub: array (nullable = true)\n",
      " |    |    |    |    |-- element: string (containsNull = true)\n",
      " |    |    |    |-- sup: array (nullable = true)\n",
      " |    |    |    |    |-- element: string (containsNull = true)\n",
      " |    |    |    |-- uid: string (nullable = true)\n",
      " |    |    |    |-- volume: string (nullable = true)\n",
      " |    |    |    |-- year: string (nullable = true)\n",
      " |    |-- summary: struct (nullable = true)\n",
      " |    |    |-- EWUID: struct (nullable = true)\n",
      " |    |    |    |-- WUID: struct (nullable = true)\n",
      " |    |    |    |    |-- _VALUE: string (nullable = true)\n",
      " |    |    |    |    |-- _coll_id: string (nullable = true)\n",
      " |    |    |    |-- edition: array (nullable = true)\n",
      " |    |    |    |    |-- element: struct (containsNull = true)\n",
      " |    |    |    |    |    |-- _VALUE: string (nullable = true)\n",
      " |    |    |    |    |    |-- _value: string (nullable = true)\n",
      " |    |    |-- conferences: struct (nullable = true)\n",
      " |    |    |    |-- _count: long (nullable = true)\n",
      " |    |    |    |-- conference: array (nullable = true)\n",
      " |    |    |    |    |-- element: struct (containsNull = true)\n",
      " |    |    |    |    |    |-- _conf_id: long (nullable = true)\n",
      " |    |    |    |    |    |-- conf_dates: struct (nullable = true)\n",
      " |    |    |    |    |    |    |-- _count: long (nullable = true)\n",
      " |    |    |    |    |    |    |-- conf_date: struct (nullable = true)\n",
      " |    |    |    |    |    |    |    |-- _VALUE: string (nullable = true)\n",
      " |    |    |    |    |    |    |    |-- _conf_end: string (nullable = true)\n",
      " |    |    |    |    |    |    |    |-- _conf_start: string (nullable = true)\n",
      " |    |    |    |    |    |-- conf_infos: struct (nullable = true)\n",
      " |    |    |    |    |    |    |-- _count: long (nullable = true)\n",
      " |    |    |    |    |    |    |-- conf_info: string (nullable = true)\n",
      " |    |    |    |    |    |-- conf_locations: struct (nullable = true)\n",
      " |    |    |    |    |    |    |-- _count: long (nullable = true)\n",
      " |    |    |    |    |    |    |-- conf_location: struct (nullable = true)\n",
      " |    |    |    |    |    |    |    |-- conf_city: string (nullable = true)\n",
      " |    |    |    |    |    |    |    |-- conf_host: string (nullable = true)\n",
      " |    |    |    |    |    |    |    |-- conf_state: string (nullable = true)\n",
      " |    |    |    |    |    |-- conf_titles: struct (nullable = true)\n",
      " |    |    |    |    |    |    |-- _count: long (nullable = true)\n",
      " |    |    |    |    |    |    |-- conf_title: string (nullable = true)\n",
      " |    |    |    |    |    |-- sponsors: struct (nullable = true)\n",
      " |    |    |    |    |    |    |-- _count: long (nullable = true)\n",
      " |    |    |    |    |    |    |-- sponsor: array (nullable = true)\n",
      " |    |    |    |    |    |    |    |-- element: string (containsNull = true)\n",
      " |    |    |-- doctypes: struct (nullable = true)\n",
      " |    |    |    |-- _count: long (nullable = true)\n",
      " |    |    |    |-- doctype: array (nullable = true)\n",
      " |    |    |    |    |-- element: string (containsNull = true)\n",
      " |    |    |-- names: struct (nullable = true)\n",
      " |    |    |    |-- _count: long (nullable = true)\n",
      " |    |    |    |-- name: array (nullable = true)\n",
      " |    |    |    |    |-- element: struct (containsNull = true)\n",
      " |    |    |    |    |    |-- _addr_no: string (nullable = true)\n",
      " |    |    |    |    |    |-- _orcid_id_tr: string (nullable = true)\n",
      " |    |    |    |    |    |-- _r_id_tr: string (nullable = true)\n",
      " |    |    |    |    |    |-- _reprint: string (nullable = true)\n",
      " |    |    |    |    |    |-- _role: string (nullable = true)\n",
      " |    |    |    |    |    |-- _seq_no: long (nullable = true)\n",
      " |    |    |    |    |    |-- display_name: string (nullable = true)\n",
      " |    |    |    |    |    |-- email_addr: string (nullable = true)\n",
      " |    |    |    |    |    |-- first_name: string (nullable = true)\n",
      " |    |    |    |    |    |-- full_name: string (nullable = true)\n",
      " |    |    |    |    |    |-- last_name: string (nullable = true)\n",
      " |    |    |    |    |    |-- suffix: string (nullable = true)\n",
      " |    |    |    |    |    |-- wos_standard: string (nullable = true)\n",
      " |    |    |-- pub_info: struct (nullable = true)\n",
      " |    |    |    |-- _coverdate: string (nullable = true)\n",
      " |    |    |    |-- _has_abstract: string (nullable = true)\n",
      " |    |    |    |-- _issue: string (nullable = true)\n",
      " |    |    |    |-- _part_no: string (nullable = true)\n",
      " |    |    |    |-- _pubmonth: string (nullable = true)\n",
      " |    |    |    |-- _pubtype: string (nullable = true)\n",
      " |    |    |    |-- _pubyear: long (nullable = true)\n",
      " |    |    |    |-- _sortdate: string (nullable = true)\n",
      " |    |    |    |-- _special_issue: string (nullable = true)\n",
      " |    |    |    |-- _supplement: string (nullable = true)\n",
      " |    |    |    |-- _vol: string (nullable = true)\n",
      " |    |    |    |-- page: struct (nullable = true)\n",
      " |    |    |    |    |-- _VALUE: string (nullable = true)\n",
      " |    |    |    |    |-- _begin: string (nullable = true)\n",
      " |    |    |    |    |-- _end: string (nullable = true)\n",
      " |    |    |    |    |-- _page_count: long (nullable = true)\n",
      " |    |    |-- publishers: struct (nullable = true)\n",
      " |    |    |    |-- publisher: struct (nullable = true)\n",
      " |    |    |    |    |-- address_spec: struct (nullable = true)\n",
      " |    |    |    |    |    |-- _addr_no: long (nullable = true)\n",
      " |    |    |    |    |    |-- city: string (nullable = true)\n",
      " |    |    |    |    |    |-- full_address: string (nullable = true)\n",
      " |    |    |    |    |-- names: struct (nullable = true)\n",
      " |    |    |    |    |    |-- _count: long (nullable = true)\n",
      " |    |    |    |    |    |-- name: struct (nullable = true)\n",
      " |    |    |    |    |    |    |-- _addr_no: long (nullable = true)\n",
      " |    |    |    |    |    |    |-- _role: string (nullable = true)\n",
      " |    |    |    |    |    |    |-- _seq_no: long (nullable = true)\n",
      " |    |    |    |    |    |    |-- display_name: string (nullable = true)\n",
      " |    |    |    |    |    |    |-- full_name: string (nullable = true)\n",
      " |    |    |-- titles: struct (nullable = true)\n",
      " |    |    |    |-- _count: long (nullable = true)\n",
      " |    |    |    |-- title: array (nullable = true)\n",
      " |    |    |    |    |-- element: struct (containsNull = true)\n",
      " |    |    |    |    |    |-- _VALUE: string (nullable = true)\n",
      " |    |    |    |    |    |-- _translated: string (nullable = true)\n",
      " |    |    |    |    |    |-- _type: string (nullable = true)\n",
      " |-- sub: long (nullable = true)\n",
      "\n"
     ]
    }
   ],
   "source": [
    "WoS.printSchema"
   ]
  },
  {
   "cell_type": "code",
   "execution_count": 7,
   "metadata": {},
   "outputs": [
    {
     "name": "stdout",
     "output_type": "stream",
     "text": [
      "[Stage 29:=====================================================>(499 + 1) / 500]+-------+--------+--------+--------+\n",
      "|summary|     UID|     doi|_pubyear|\n",
      "+-------+--------+--------+--------+\n",
      "|  count|19854931|19854931|19854931|\n",
      "+-------+--------+--------+--------+\n",
      "\n"
     ]
    },
    {
     "data": {
      "text/plain": [
       "WoS4 = [UID: string, doi: string ... 1 more field]\n"
      ]
     },
     "metadata": {},
     "output_type": "display_data"
    },
    {
     "data": {
      "text/plain": [
       "getID: (_type: String)org.apache.spark.sql.expressions.UserDefinedFunction\n"
      ]
     },
     "metadata": {},
     "output_type": "display_data"
    },
    {
     "data": {
      "text/plain": [
       "[UID: string, doi: string ... 1 more field]"
      ]
     },
     "execution_count": 7,
     "metadata": {},
     "output_type": "execute_result"
    }
   ],
   "source": [
    "def getID(_type: String) = {\n",
    "  udf((row: Seq[Row]) =>\n",
    "    row.map(r => (r.getString(0), r.getString(1), r.getString(2)))\n",
    "      .find { case (_, s, _) => s == _type}\n",
    "      .map(_._3)\n",
    "      .orElse(None)\n",
    "  )\n",
    "}\n",
    "\n",
    "\n",
    "val WoS4 = WoS2.withColumn(\"doi\", when(col(\"identifier\").isNotNull, getID(\"doi\")($\"identifier\")).otherwise(lit(null)))\n",
    ".select(\"UID\",\"doi\",\"_pubyear\").filter($\"doi\" =!= \"null\").coalesce(500)\n",
    "\n",
    "WoS4.describe().filter($\"summary\" === \"count\").show"
   ]
  },
  {
   "cell_type": "code",
   "execution_count": 11,
   "metadata": {
    "scrolled": true
   },
   "outputs": [
    {
     "name": "stdout",
     "output_type": "stream",
     "text": [
      "+-------------------+--------------------+--------------------+\n",
      "|               UID2|             WoStype|          WoSjournal|\n",
      "+-------------------+--------------------+--------------------+\n",
      "|WOS:000314473000028|           [Article]|             ANALYST|\n",
      "|WOS:000215261800133|           [Article]|CASE REPORTS IN M...|\n",
      "|WOS:000318694100266|  [Meeting Abstract]|JOURNAL OF LABELL...|\n",
      "|WOS:000318694100428|  [Meeting Abstract]|JOURNAL OF LABELL...|\n",
      "|WOS:000330468400149|  [Meeting Abstract]|            PANCREAS|\n",
      "|WOS:000327808700032|            [Letter]|JOURNAL OF VASCUL...|\n",
      "|WOS:000322828100039|            [Letter]|APPLIED AND ENVIR...|\n",
      "|WOS:000312965100005|[Editorial Material]|    GASTROENTEROLOGY|\n",
      "|WOS:000332833800288|  [Meeting Abstract]|JOURNAL OF MOLECU...|\n",
      "|WOS:000316290900022|[Editorial Material]|JOURNAL OF PHASE ...|\n",
      "|WOS:000330358200026|           [Article]| CLASSICAL QUARTERLY|\n",
      "|WOS:000331980300050|[Article, Proceed...|    BUFFALO BULLETIN|\n",
      "|WOS:000331980300212|[Article, Proceed...|    BUFFALO BULLETIN|\n",
      "|WOS:000314627700035|           [Article]| INORGANIC CHEMISTRY|\n",
      "|WOS:000328683600017|           [Article]|JOURNAL OF LEUKOC...|\n",
      "|WOS:000318665300019|[Article, Proceed...|MICROCHEMICAL JOU...|\n",
      "|WOS:000339363800092| [Proceedings Paper]|APPLIED MATERIALS...|\n",
      "|WOS:000339363800254| [Proceedings Paper]|APPLIED MATERIALS...|\n",
      "|WOS:000339363800416| [Proceedings Paper]|APPLIED MATERIALS...|\n",
      "|WOS:000218628800005|           [Article]|ENTREPRENEURSHIP ...|\n",
      "+-------------------+--------------------+--------------------+\n",
      "only showing top 20 rows\n",
      "\n"
     ]
    },
    {
     "data": {
      "text/plain": [
       "WoS5 = [UID2: string, WoStype: array<string> ... 1 more field]\n"
      ]
     },
     "metadata": {},
     "output_type": "display_data"
    },
    {
     "data": {
      "text/plain": [
       "getTitle: (_type: String)org.apache.spark.sql.expressions.UserDefinedFunction\n"
      ]
     },
     "metadata": {},
     "output_type": "display_data"
    },
    {
     "data": {
      "text/plain": [
       "[UID2: string, WoStype: array<string> ... 1 more field]"
      ]
     },
     "execution_count": 11,
     "metadata": {},
     "output_type": "execute_result"
    }
   ],
   "source": [
    "import scala.util.Try\n",
    "import org.apache.hadoop.fs._\n",
    "import org.apache.spark.sql.Row\n",
    "\n",
    "def getTitle(_type: String) = { \n",
    "  udf((row: Seq[Row]) =>\n",
    "    row.map(r => (r.getString(0), r.getString(1), r.getString(2)))\n",
    "      .find { case (_, _, s) => s == _type}\n",
    "      .map(_._1)\n",
    "      .orElse(None)\n",
    "  )\n",
    "}\n",
    "\n",
    "val WoS5 = WoS2.withColumn(\"journal\", getTitle(\"source\")($\"title\")).select(\"UID\",\"doctype\",\"journal\")\n",
    ".toDF(\"UID2\",\"WoStype\",\"WoSjournal\")\n",
    "WoS5.show"
   ]
  },
  {
   "cell_type": "code",
   "execution_count": 9,
   "metadata": {},
   "outputs": [
    {
     "name": "stdout",
     "output_type": "stream",
     "text": [
      "[Stage 25:=====================================================>(444 + 1) / 445]+----------+--------------------+---------+-------------------+--------------------+--------+\n",
      "|       MID|                Mdoi|     MJid|                UID|                 doi|_pubyear|\n",
      "+----------+--------------------+---------+-------------------+--------------------+--------+\n",
      "|2076045575|10.1001/2013.jama...|146641495|WOS:000312395500012|10.1001/2013.jama...|    2012|\n",
      "|2074261013|10.1001/2013.jama...| 65364685|WOS:000311513000005|10.1001/2013.jama...|    2012|\n",
      "|2063424611|10.1001/2013.jama...| 65364685|WOS:000312198300015|10.1001/2013.jama...|    2012|\n",
      "|2139316812|10.1001/archderma...|115046667|WOS:000286229000010|10.1001/archderma...|    2011|\n",
      "|2112827574|10.1001/archfacia...|193953920|WOS:000308848300010|10.1001/archfacia...|    2012|\n",
      "|2099029781|10.1001/archgenps...|126359496|WOS:000299905400005|10.1001/archgenps...|    2012|\n",
      "|2085073318|10.1001/archinter...| 65364685|WOS:000305594200021|10.1001/archinter...|    2012|\n",
      "|2002315935|10.1001/archinter...| 65364685|WOS:000307369200011|10.1001/archinter...|    2012|\n",
      "|2051660946|10.1001/archophth...| 80523760|WOS:000293648800008|10.1001/archophth...|    2011|\n",
      "|2149296628|10.1001/archpedia...| 14226812|WOS:000292373100003|10.1001/archpedia...|    2011|\n",
      "|2125848834|10.1001/archpedia...| 14226812|WOS:000310686400009|10.1001/archpedia...|    2012|\n",
      "|2066186632|10.1001/archsurg....| 61251237|WOS:000312397800007|10.1001/archsurg....|    2012|\n",
      "|2092042871|10.1001/jama.2009...|172573765|WOS:000273522600002|10.1001/jama.2009...|    2010|\n",
      "|1977962760|10.1001/jama.2010...|172573765|WOS:000276597300019|10.1001/jama.2010...|    2010|\n",
      "|2026502192|10.1001/jama.2010...|172573765|WOS:000277513900019|10.1001/jama.2010...|    2010|\n",
      "|2024216757|10.1001/jama.2010...|172573765|WOS:000279010900034|10.1001/jama.2010...|    2010|\n",
      "|2066901059|10.1001/jama.2011...|172573765|WOS:000294542600018|10.1001/jama.2011...|    2011|\n",
      "|2041362722|10.1001/jama.2011...|172573765|WOS:000296181600026|10.1001/jama.2011...|    2011|\n",
      "|2049746561|10.1001/jama.2011...|172573765|WOS:000296181600024|10.1001/jama.2011...|    2011|\n",
      "|2061730569|10.1001/jama.2011...|172573765|WOS:000298792300003|10.1001/jama.2011...|    2012|\n",
      "+----------+--------------------+---------+-------------------+--------------------+--------+\n",
      "only showing top 20 rows\n",
      "\n"
     ]
    },
    {
     "data": {
      "text/plain": [
       "MAGwos = [MID: string, Mdoi: string ... 4 more fields]\n"
      ]
     },
     "metadata": {},
     "output_type": "display_data"
    },
    {
     "data": {
      "text/plain": [
       "[MID: string, Mdoi: string ... 4 more fields]"
      ]
     },
     "execution_count": 9,
     "metadata": {},
     "output_type": "execute_result"
    }
   ],
   "source": [
    "val MAGwos = MAG2.join(WoS4, MAG2(\"Mdoi\")===WoS4(\"doi\"), \"inner\")\n",
    "MAGwos.show"
   ]
  },
  {
   "cell_type": "code",
   "execution_count": 10,
   "metadata": {},
   "outputs": [
    {
     "name": "stdout",
     "output_type": "stream",
     "text": [
      "[Stage 29:====================================================> (195 + 5) / 200]"
     ]
    }
   ],
   "source": [
    "MAGwos.write.mode(SaveMode.Overwrite).parquet(\"file:///N/dc2/projects/IUNI_MSAcademic/mag_raw/WoSmatch/\")"
   ]
  },
  {
   "cell_type": "code",
   "execution_count": 2,
   "metadata": {},
   "outputs": [
    {
     "name": "stdout",
     "output_type": "stream",
     "text": [
      "[Stage 1:=====================================================> (195 + 5) / 200]+----------+--------------------+---------+-------------------+--------------------+--------+\n",
      "|       MID|                Mdoi|     MJid|                UID|                 doi|_pubyear|\n",
      "+----------+--------------------+---------+-------------------+--------------------+--------+\n",
      "|2165176312|10.1001/archfacia...|193953920|WOS:000306380400011|10.1001/archfacia...|    2012|\n",
      "|2056420845|10.1001/archinter...| 65364685|WOS:000305087600005|10.1001/archinter...|    2012|\n",
      "|2013055832|10.1001/archneuro...|164389565|WOS:000312196100001|10.1001/archneuro...|    2012|\n",
      "|2015492981|10.1001/archpedia...| 14226812|WOS:000290113500010|10.1001/archpedia...|    2011|\n",
      "|2110498722|10.1001/archpedia...| 14226812|WOS:000301211000003|10.1001/archpedia...|    2012|\n",
      "|1999322515|10.1001/jama.2010...|172573765|WOS:000281422400025|10.1001/jama.2010...|    2010|\n",
      "|2029215247|10.1001/jama.2010...|172573765|WOS:000277764500026|10.1001/jama.2010...|    2010|\n",
      "|1964233159|10.1001/jama.2010...|172573765|WOS:000278018200017|10.1001/jama.2010...|    2010|\n",
      "|1983224567|10.1001/jama.2011...|172573765|WOS:000298276800013|10.1001/jama.2011...|    2011|\n",
      "|1998215194|10.1001/jama.2011...|172573765|WOS:000298792300018|10.1001/jama.2011...|    2012|\n",
      "|2078787724|10.1001/jama.2011...|172573765|WOS:000288652100005|10.1001/jama.2011...|    2011|\n",
      "|2072076896|10.1001/jama.2011...|172573765|WOS:000291349100001|10.1001/jama.2011...|    2011|\n",
      "|2041736286|10.1001/jama.2011...|172573765|WOS:000290156200027|10.1001/jama.2011...|    2011|\n",
      "|2054743870|10.1001/jama.2011...|172573765|WOS:000291597300018|10.1001/jama.2011...|    2011|\n",
      "|2061701563|10.1001/jama.2012...|172573765|WOS:000309103600031|10.1001/jama.2012...|    2012|\n",
      "|2070804914|10.1001/jama.2012...|172573765|WOS:000310726500002|10.1001/jama.2012...|    2012|\n",
      "|2066481124|10.1001/jama.2012...|172573765|WOS:000301172100007|10.1001/jama.2012...|    2012|\n",
      "|2026541170|10.1001/jama.2012...|172573765|WOS:000303147500006|10.1001/jama.2012...|    2012|\n",
      "|1966663730|10.1001/jama.2012...|172573765|WOS:000306477900021|10.1001/jama.2012...|    2012|\n",
      "|2152740900|10.1001/jama.2012...|172573765|WOS:000312916600025|10.1001/jama.2012...|    2012|\n",
      "+----------+--------------------+---------+-------------------+--------------------+--------+\n",
      "only showing top 20 rows\n",
      "\n"
     ]
    },
    {
     "data": {
      "text/plain": [
       "MAGwos2 = [MID: string, Mdoi: string ... 4 more fields]\n"
      ]
     },
     "metadata": {},
     "output_type": "display_data"
    },
    {
     "data": {
      "text/plain": [
       "[MID: string, Mdoi: string ... 4 more fields]"
      ]
     },
     "execution_count": 2,
     "metadata": {},
     "output_type": "execute_result"
    }
   ],
   "source": [
    "val MAGwos2 = spark.read.format(\"parquet\").load(\"file:///N/dc2/projects/IUNI_MSAcademic/mag_raw/WoSmatch/*.parquet\")\n",
    "MAGwos2.show"
   ]
  },
  {
   "cell_type": "code",
   "execution_count": 13,
   "metadata": {},
   "outputs": [
    {
     "name": "stdout",
     "output_type": "stream",
     "text": [
      "[Stage 44:=====================================================>(199 + 1) / 200]+-------+--------+--------+--------+--------+--------+--------+--------+----------+\n",
      "|summary|     MID|    Mdoi|    MJid|     UID|     doi|_pubyear|    UID2|WoSjournal|\n",
      "+-------+--------+--------+--------+--------+--------+--------+--------+----------+\n",
      "|  count|18988668|18988668|17874374|18988668|18988668|18988668|18988668|  18988668|\n",
      "+-------+--------+--------+--------+--------+--------+--------+--------+----------+\n",
      "\n"
     ]
    },
    {
     "data": {
      "text/plain": [
       "MAGwos3 = [MID: string, Mdoi: string ... 7 more fields]\n"
      ]
     },
     "metadata": {},
     "output_type": "display_data"
    },
    {
     "data": {
      "text/plain": [
       "[MID: string, Mdoi: string ... 7 more fields]"
      ]
     },
     "execution_count": 13,
     "metadata": {},
     "output_type": "execute_result"
    }
   ],
   "source": [
    "val MAGwos3 = MAGwos2.join(WoS5, MAGwos2(\"UID\")===WoS5(\"UID2\"), \"leftouter\")\n",
    "MAGwos3.describe().filter($\"summary\" === \"count\").show"
   ]
  },
  {
   "cell_type": "code",
   "execution_count": 14,
   "metadata": {},
   "outputs": [
    {
     "name": "stdout",
     "output_type": "stream",
     "text": [
      "[Stage 50:=====================================================>(198 + 2) / 200]"
     ]
    }
   ],
   "source": [
    "MAGwos3.select(\"MID\", \"Mdoi\", \"MJid\", \"UID\", \"_pubyear\", \"WoSjournal\")\n",
    ".toDF(\"MAGID\", \"doi\", \"MJid\", \"WoSID\", \"Year\", \"WoSjournal\")\n",
    ".write.mode(SaveMode.Overwrite).parquet(\"file:///N/dc2/projects/IUNI_MSAcademic/mag_raw/WoSmatchJournal/\")"
   ]
  },
  {
   "cell_type": "code",
   "execution_count": 5,
   "metadata": {},
   "outputs": [
    {
     "data": {
      "text/plain": [
       "Name: Unknown Error\n",
       "Message: lastException: Throwable = null\n",
       "<console>:56: error: not found: value MAGwos3\n",
       "       val WoSref2 = WoS5.join(MAGwos3, WoS5(\"citing\")===MAGwos3(\"UID\"), \"inner\")\n",
       "                               ^\n",
       "<console>:56: error: not found: value MAGwos3\n",
       "       val WoSref2 = WoS5.join(MAGwos3, WoS5(\"citing\")===MAGwos3(\"UID\"), \"inner\")\n",
       "                                                         ^\n",
       "\n",
       "StackTrace: "
      ]
     },
     "execution_count": 5,
     "metadata": {},
     "output_type": "execute_result"
    }
   ],
   "source": [
    "import scala.util.Try\n",
    "import org.apache.spark.sql.functions._\n",
    "import org.apache.spark.sql.{Row, SQLContext}\n",
    "import org.apache.spark.sql.functions.countDistinct\n",
    "\n",
    "val WoS = spark.read.format(\"parquet\").load(\"file:///N/dc2/projects/IUNI_MSAcademic/wos_raw/parquet/*.parquet\")\n",
    "val WoS5 = WoS.select(\"UID\", \"static_data.fullrecord_metadata.references.reference.uid\").toDF(\"citing\",\"citedList\")\n",
    "val WoSref2 = WoS5.join(MAGwos3, WoS5(\"citing\")===MAGwos3(\"UID\"), \"inner\")\n",
    "WoSref2.describe().filter($\"summary\" === \"count\").show"
   ]
  },
  {
   "cell_type": "code",
   "execution_count": 21,
   "metadata": {
    "scrolled": true
   },
   "outputs": [
    {
     "data": {
      "text/plain": [
       "WoSref3 = [citing: string, MID: string ... 3 more fields]\n",
       "WoSref4 = [citingWoS: string, citingMAG: string ... 3 more fields]\n"
      ]
     },
     "metadata": {},
     "output_type": "display_data"
    },
    {
     "data": {
      "text/plain": [
       "lastException: Throwable = null\n"
      ]
     },
     "metadata": {},
     "output_type": "display_data"
    },
    {
     "data": {
      "text/plain": [
       "[citingWoS: string, citingMAG: string ... 3 more fields]"
      ]
     },
     "execution_count": 21,
     "metadata": {},
     "output_type": "execute_result"
    }
   ],
   "source": [
    "val WoSref3 = WoSref2.select(\"citing\",\"MID\",\"Mdoi\",\"_pubyear\",\"citedList\").repartition(50)\n",
    "\n",
    "val WoSref4 = WoSref3.withColumn(\"cited\", explode(col(\"citedList\"))).select(\"citing\",\"MID\",\"Mdoi\",\"_pubyear\",\"cited\")\n",
    "                .toDF(\"citingWoS\",\"citingMAG\",\"citingDOI\",\"citingYear\",\"cited\")\n",
    "//WoSref4.describe().filter($\"summary\" === \"count\").show"
   ]
  },
  {
   "cell_type": "code",
   "execution_count": null,
   "metadata": {},
   "outputs": [
    {
     "name": "stdout",
     "output_type": "stream",
     "text": [
      "[Stage 73:=========================================>           (157 + 43) / 200]"
     ]
    }
   ],
   "source": [
    "val MAGwos4 = MAGwos3.select(\"MID\", \"Mdoi\",\"UID\", \"_pubyear\").toDF(\"citedMAG\", \"citedDOI\", \"citedWoS\", \"Year\")\n",
    "val WoSref5 = WoSref4.join(broadcast(MAGwos4), WoSref4(\"cited\")===MAGwos4(\"citedWoS\"), \"inner\")\n",
    "WoSref5.describe().filter($\"summary\" === \"count\").show"
   ]
  },
  {
   "cell_type": "code",
   "execution_count": null,
   "metadata": {
    "collapsed": true
   },
   "outputs": [],
   "source": [
    "WoSref4.write.mode(SaveMode.Overwrite).parquet(\"file:///N/dc2/projects/IUNI_MSAcademic/mag_raw/WoStallCitation/\")"
   ]
  },
  {
   "cell_type": "code",
   "execution_count": null,
   "metadata": {
    "collapsed": true
   },
   "outputs": [],
   "source": []
  }
 ],
 "metadata": {
  "kernelspec": {
   "display_name": "Spark - Scala",
   "language": "scala",
   "name": "spark_scala"
  },
  "language_info": {
   "codemirror_mode": "text/x-scala",
   "file_extension": ".scala",
   "mimetype": "text/x-scala",
   "name": "scala",
   "pygments_lexer": "scala",
   "version": "2.11.12"
  }
 },
 "nbformat": 4,
 "nbformat_minor": 2
}
