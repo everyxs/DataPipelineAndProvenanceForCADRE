{
 "cells": [
  {
   "cell_type": "code",
   "execution_count": 2,
   "metadata": {},
   "outputs": [
    {
     "name": "stdout",
     "output_type": "stream",
     "text": [
      "[Stage 2:=====================================================> (154 + 3) / 157]+-------+-----------+--------+-------+-------+-----------+----------+-------+-----------+-------+--------------------+--------+--------+---------+--------+-----------+-------+------------+-------+-----------------+------------+---------+-------+---------------+-----------+-------+-------------------+-------------------------+--------------------------+---------------------+\n",
      "|summary|_activities|_address|  _bulk|_common|_deprecated|_education| _email|_employment| _error|_external-identifier|_funding|_history|_internal|_keyword|_other-name|  _path|_peer-review|_person|_personal-details|_preferences|_put-code|_record|_researcher-url|_visibility|  _work|common:created-date|common:last-modified-date|employment:department-name|employment:role-title|\n",
      "+-------+-----------+--------+-------+-------+-----------+----------+-------+-----------+-------+--------------------+--------+--------+---------+--------+-----------+-------+------------+-------+-----------------+------------+---------+-------+---------------+-----------+-------+-------------------+-------------------------+--------------------------+---------------------+\n",
      "|  count|    2044671| 2044671|2044671|2044671|    2044671|   2044671|2044671|    2044671|2044671|             2044671| 2044671| 2044671|  2044671| 2044671|    2044671|2044671|     2044671|2044671|          2044671|     2044671|  2044671|2044671|        2044671|    2044671|2044671|            2044671|                  2044671|                   1619938|              1763674|\n",
      "+-------+-----------+--------+-------+-------+-----------+----------+-------+-----------+-------+--------------------+--------+--------+---------+--------+-----------+-------+------------+-------+-----------------+------------+---------+-------+---------------+-----------+-------+-------------------+-------------------------+--------------------------+---------------------+\n",
      "\n"
     ]
    },
    {
     "data": {
      "text/plain": [
       "df3 = [_activities: string, _address: string ... 31 more fields]\n"
      ]
     },
     "metadata": {},
     "output_type": "display_data"
    },
    {
     "data": {
      "text/plain": [
       "lastException: Throwable = null\n"
      ]
     },
     "metadata": {},
     "output_type": "display_data"
    },
    {
     "data": {
      "text/plain": [
       "[_activities: string, _address: string ... 31 more fields]"
      ]
     },
     "execution_count": 2,
     "metadata": {},
     "output_type": "execute_result"
    }
   ],
   "source": [
    "val df3 = spark.read.format(\"parquet\").load(\"file:///N/dc2/projects/IUNI_MSAcademic/ORCID/workingdir/EMP/orcid*/*/*.parquet\")\n",
    "//df.printSchema()\n",
    "df3.describe().filter($\"summary\" === \"count\").show"
   ]
  },
  {
   "cell_type": "code",
   "execution_count": 3,
   "metadata": {},
   "outputs": [
    {
     "name": "stdout",
     "output_type": "stream",
     "text": [
      "[Stage 6:>                                                        (0 + 0) / 200]+--------------------+--------------+-----------------------+--------------------+--------------------+--------------------+--------------------+-------------------+--------------------+--------------------+--------------------+--------------------+\n",
      "|               _path|common:country|common:publication-date|       common:source|   work:contributors|          work:title|                 doi|              orcid|      matched_orcid1|               name1|      matched_orcid2|               name2|\n",
      "+--------------------+--------------+-----------------------+--------------------+--------------------+--------------------+--------------------+-------------------+--------------------+--------------------+--------------------+--------------------+\n",
      "|/0000-0001-5005-6...|          null|       [null,null,2012]|[[orcid.org,0000-...|[WrappedArray([nu...|[null,Tunable enh...|[self,doi,,10.110...|0000-0001-5005-6596|[0000-0001-5005-6...|     [Thierry Baron]|[0000-0001-5005-6...|     [Thierry Baron]|\n",
      "|/0000-0001-5039-1...|          null|       [null,null,2010]|[[orcid.org,0000-...|[WrappedArray([nu...|[null,Diamond anv...|[self,doi,null,10...|0000-0001-5039-1183|[0000-0001-5039-1...|[Hanns-Peter Lier...|[0000-0001-5039-1...|[Hanns-Peter Lier...|\n",
      "|/0000-0001-5043-1...|          null|       [null,null,2013]|[[orcid.org,0000-...|[WrappedArray([nu...|[null,Superconduc...|[self,doi,null,10...|0000-0001-5043-1616|[0000-0001-5043-1...|    [Alexey Lipatov]|[0000-0001-5043-1...|[Alexey Lipatov, ...|\n",
      "|/0000-0001-5050-8...|          null|            [5,11,2015]|[[orcid.org,0000-...|[WrappedArray([nu...|[null,Searches fo...|[self,doi,http://...|0000-0001-5050-8441|[0000-0001-5050-8...|[SERKANT ALİ ÇETİ...|[0000-0001-5050-8...|[SERKANT ALİ ÇETİ...|\n",
      "|/0000-0001-5057-1...|          null|       [null,null,2008]|[[orcid.org,0000-...|[WrappedArray([nu...|[null,Stochastic ...|[self,doi,null,10...|0000-0001-5057-1846|[0000-0001-5057-1...|[Giovanni Volpe, ...|[0000-0001-5057-1...|[Giovanni Volpe, ...|\n",
      "|/0000-0001-5058-4...|          null|       [null,null,2015]|[[orcid.org,0000-...|[WrappedArray([nu...|[null,Suppressing...|[self,doi,null,10...|0000-0001-5058-4401|[0000-0001-5058-4...|[Rongjia Tao, Ron...|[0000-0001-5058-4...|[Rongjia Tao, Ron...|\n",
      "|/0000-0001-5058-4...|          null|       [null,null,2015]|[[orcid.org,0000-...|[WrappedArray([nu...|[null,Suppressing...|[self,doi,null,10...|0000-0001-5058-4401|[0000-0001-5058-4...|[Rongjia Tao, Ron...|[0000-0001-5058-4...|[Rongjia Tao, Ron...|\n",
      "|/0000-0001-5060-3...|          null|       [null,null,2007]|[[orcid.org,0000-...|[WrappedArray([nu...|[null,Dressed-sta...|[self,doi,null,10...|0000-0001-5060-3318|                  []|                  []|                  []|                  []|\n",
      "|/0000-0001-5073-0...|          null|            [27,6,2017]|[[orcid.org,0000-...|[WrappedArray([nu...|[null,Measurement...|[self,doi,http://...|0000-0001-5073-0974|                  []|                  []|                  []|                  []|\n",
      "|/0000-0001-5084-9...|          null|       [null,null,2016]|[[orcid.org,0000-...|[WrappedArray([nu...|[null,Search for ...|[self,doi,null,10...|0000-0001-5084-9019|[0000-0001-5084-9...|[Natalia Lychkovs...|[0000-0001-5084-9...|[Natalia Lychkovs...|\n",
      "|/0000-0001-5092-9...|          null|       [null,null,2001]|[[orcid.org,0000-...|[WrappedArray([nu...|[null,Search for ...|[self,doi,null,10...|0000-0001-5092-9748|[0000-0001-5092-9...|[Arturo Fernández...|[0000-0001-5092-9...|[Arturo Fernández...|\n",
      "|/0000-0001-5093-4...|          null|       [null,null,2015]|[[orcid.org,0000-...|[WrappedArray([nu...|[null,Pattern-flu...|[self,doi,null,10...|0000-0001-5093-415X|[0000-0001-5093-4...|[Gerd Schroeder-T...|                  []|                  []|\n",
      "|/0000-0001-5115-5...|          null|       [null,null,2009]|[[orcid.org,0000-...|[WrappedArray([nu...|[null,Indium surf...|[self,doi,null,10...|0000-0001-5115-5801|                  []|                  []|                  []|                  []|\n",
      "|/0000-0001-5121-5...|          null|       [null,null,2003]|[[orcid.org,0000-...|[WrappedArray([nu...|[null,Differentia...|[self,doi,null,10...|0000-0001-5121-5683|[0000-0001-5121-5...|    [Nadia Balucani]|[0000-0001-5121-5...|    [Nadia Balucani]|\n",
      "|/0000-0001-5124-9...|          null|             [1,5,2013]|[[orcid.org,0000-...|[WrappedArray([nu...|[null,Observation...|[self,doi,http://...|0000-0001-5124-904X|                  []|                  []|                  []|                  []|\n",
      "|/0000-0001-5141-8...|          null|            [24,5,2016]|[[orcid.org,0000-...|[WrappedArray([[o...|[null,Nonperturba...|[self,doi,http://...|0000-0001-5141-8245|[0000-0001-5141-8...|[David B. Kaplan,...|[0000-0001-5141-8...|[David B. Kaplan,...|\n",
      "|/0000-0001-5141-8...|          null|          [null,2,1986]|[[orcid.org,0000-...|[WrappedArray([nu...|[null,Current Mas...|[self,doi,http://...|0000-0001-5141-8245|[0000-0001-5141-8...|[David B. Kaplan,...|[0000-0001-5141-8...|[David B. Kaplan,...|\n",
      "|/0000-0001-5176-3...|          null|       [null,null,2005]|[[orcid.org,0000-...|[WrappedArray([nu...|[null,Cluster sta...|[self,doi,,10.110...|0000-0001-5176-3073|[0000-0001-5176-3...|       [Daniel Loss]|                  []|                  []|\n",
      "|/0000-0001-5176-3...|          null|       [null,null,2014]|[[orcid.org,0000-...|[WrappedArray([nu...|[null,Breakdown o...|[self,doi,null,10...|0000-0001-5176-3073|[0000-0001-5176-3...|       [Daniel Loss]|                  []|                  []|\n",
      "|/0000-0001-5187-7...|          null|                   null|[null,Tatsuo Hase...|              [null]|[null,Ambipolar f...|[self,doi,https:/...|0000-0001-5187-7433|                  []|                  []|                  []|                  []|\n",
      "+--------------------+--------------+-----------------------+--------------------+--------------------+--------------------+--------------------+-------------------+--------------------+--------------------+--------------------+--------------------+\n",
      "only showing top 20 rows\n",
      "\n"
     ]
    },
    {
     "data": {
      "text/plain": [
       "df6 = [_path: string, common:country: string ... 10 more fields]\n"
      ]
     },
     "metadata": {},
     "output_type": "display_data"
    },
    {
     "data": {
      "text/plain": [
       "[_path: string, common:country: string ... 10 more fields]"
      ]
     },
     "execution_count": 3,
     "metadata": {},
     "output_type": "execute_result"
    }
   ],
   "source": [
    "val df6 = spark.read.format(\"parquet\").load(\"file:///N/dc2/projects/IUNI_MSAcademic/ORCID/workingdir/APSorcidMatched/*.parquet\")\n",
    "df6.show"
   ]
  },
  {
   "cell_type": "code",
   "execution_count": 11,
   "metadata": {},
   "outputs": [
    {
     "name": "stdout",
     "output_type": "stream",
     "text": [
      "[Stage 14:=====================================>            (3703 + 278) / 5000]root\n",
      " |-- _activities: string (nullable = true)\n",
      " |-- _address: string (nullable = true)\n",
      " |-- _bulk: string (nullable = true)\n",
      " |-- _common: string (nullable = true)\n",
      " |-- _deprecated: string (nullable = true)\n",
      " |-- _education: string (nullable = true)\n",
      " |-- _email: string (nullable = true)\n",
      " |-- _employment: string (nullable = true)\n",
      " |-- _error: string (nullable = true)\n",
      " |-- _external-identifier: string (nullable = true)\n",
      " |-- _funding: string (nullable = true)\n",
      " |-- _history: string (nullable = true)\n",
      " |-- _internal: string (nullable = true)\n",
      " |-- _keyword: string (nullable = true)\n",
      " |-- _other-name: string (nullable = true)\n",
      " |-- _path: string (nullable = true)\n",
      " |-- _peer-review: string (nullable = true)\n",
      " |-- _person: string (nullable = true)\n",
      " |-- _personal-details: string (nullable = true)\n",
      " |-- _preferences: string (nullable = true)\n",
      " |-- _put-code: long (nullable = true)\n",
      " |-- _record: string (nullable = true)\n",
      " |-- _researcher-url: string (nullable = true)\n",
      " |-- _visibility: string (nullable = true)\n",
      " |-- _work: string (nullable = true)\n",
      " |-- common:country: string (nullable = true)\n",
      " |-- common:created-date: string (nullable = true)\n",
      " |-- common:external-ids: struct (nullable = true)\n",
      " |    |-- common:external-id: array (nullable = true)\n",
      " |    |    |-- element: struct (containsNull = true)\n",
      " |    |    |    |-- common:external-id-relationship: string (nullable = true)\n",
      " |    |    |    |-- common:external-id-type: string (nullable = true)\n",
      " |    |    |    |-- common:external-id-url: string (nullable = true)\n",
      " |    |    |    |-- common:external-id-value: string (nullable = true)\n",
      " |-- common:language-code: string (nullable = true)\n",
      " |-- common:last-modified-date: string (nullable = true)\n",
      " |-- common:publication-date: struct (nullable = true)\n",
      " |    |-- common:day: long (nullable = true)\n",
      " |    |-- common:month: long (nullable = true)\n",
      " |    |-- common:year: long (nullable = true)\n",
      " |-- common:source: struct (nullable = true)\n",
      " |    |-- common:source-client-id: struct (nullable = true)\n",
      " |    |    |-- common:host: string (nullable = true)\n",
      " |    |    |-- common:path: string (nullable = true)\n",
      " |    |    |-- common:uri: string (nullable = true)\n",
      " |    |-- common:source-name: string (nullable = true)\n",
      " |    |-- common:source-orcid: struct (nullable = true)\n",
      " |    |    |-- common:host: string (nullable = true)\n",
      " |    |    |-- common:path: string (nullable = true)\n",
      " |    |    |-- common:uri: string (nullable = true)\n",
      " |-- work:citation: struct (nullable = true)\n",
      " |    |-- work:citation-type: string (nullable = true)\n",
      " |    |-- work:citation-value: string (nullable = true)\n",
      " |-- work:contributors: struct (nullable = true)\n",
      " |    |-- work:contributor: array (nullable = true)\n",
      " |    |    |-- element: struct (containsNull = true)\n",
      " |    |    |    |-- common:contributor-orcid: struct (nullable = true)\n",
      " |    |    |    |    |-- common:host: string (nullable = true)\n",
      " |    |    |    |    |-- common:path: string (nullable = true)\n",
      " |    |    |    |    |-- common:uri: string (nullable = true)\n",
      " |    |    |    |-- work:contributor-attributes: struct (nullable = true)\n",
      " |    |    |    |    |-- work:contributor-role: string (nullable = true)\n",
      " |    |    |    |    |-- work:contributor-sequence: string (nullable = true)\n",
      " |    |    |    |-- work:credit-name: string (nullable = true)\n",
      " |-- work:journal-title: string (nullable = true)\n",
      " |-- work:short-description: string (nullable = true)\n",
      " |-- work:title: struct (nullable = true)\n",
      " |    |-- common:subtitle: string (nullable = true)\n",
      " |    |-- common:title: string (nullable = true)\n",
      " |    |-- common:translated-title: struct (nullable = true)\n",
      " |    |    |-- _VALUE: string (nullable = true)\n",
      " |    |    |-- _language-code: string (nullable = true)\n",
      " |-- work:type: string (nullable = true)\n",
      " |-- work:url: string (nullable = true)\n",
      "\n"
     ]
    },
    {
     "data": {
      "text/plain": [
       "df = [_activities: string, _address: string ... 37 more fields]\n"
      ]
     },
     "metadata": {},
     "output_type": "display_data"
    },
    {
     "data": {
      "text/plain": [
       "lastException: Throwable = null\n"
      ]
     },
     "metadata": {},
     "output_type": "display_data"
    },
    {
     "data": {
      "text/plain": [
       "[_activities: string, _address: string ... 37 more fields]"
      ]
     },
     "execution_count": 11,
     "metadata": {},
     "output_type": "execute_result"
    }
   ],
   "source": [
    "val df = spark.read.format(\"parquet\").load(\"file:///N/dc2/projects/IUNI_MSAcademic/ORCID/workingdir/orcid*/*/*.parquet\")\n",
    "df.printSchema()"
   ]
  },
  {
   "cell_type": "code",
   "execution_count": 17,
   "metadata": {},
   "outputs": [
    {
     "name": "stdout",
     "output_type": "stream",
     "text": [
      "+----------------------------------+-----------+\n",
      "|_path                             |common:year|\n",
      "+----------------------------------+-----------+\n",
      "|/0000-0001-6740-0357/work/39056159|2018       |\n",
      "|/0000-0001-8588-7357/work/48305957|2018       |\n",
      "|/0000-0001-8588-7357/work/40895944|2018       |\n",
      "|/0000-0001-8588-7357/work/46647649|2018       |\n",
      "|/0000-0002-1243-5357/work/42544426|2018       |\n",
      "|/0000-0001-6239-4357/work/42526398|2018       |\n",
      "|/0000-0003-0350-5357/work/42738285|2018       |\n",
      "|/0000-0003-0350-5357/work/48832946|2018       |\n",
      "|/0000-0003-0350-5357/work/48145439|2018       |\n",
      "|/0000-0002-8414-8357/work/47997838|2018       |\n",
      "|/0000-0002-0867-1357/work/45471756|2018       |\n",
      "|/0000-0002-0867-1357/work/47848867|2018       |\n",
      "|/0000-0003-0744-2357/work/43424178|2018       |\n",
      "|/0000-0002-2841-0357/work/48176777|2018       |\n",
      "|/0000-0002-2841-0357/work/48176779|2018       |\n",
      "|/0000-0002-2841-0357/work/48176778|2018       |\n",
      "|/0000-0002-2841-0357/work/48176773|2018       |\n",
      "|/0000-0002-2841-0357/work/48176774|2018       |\n",
      "|/0000-0002-2841-0357/work/48176776|2018       |\n",
      "|/0000-0002-2841-0357/work/48176775|2018       |\n",
      "|/0000-0002-6236-0357/work/41269839|2018       |\n",
      "|/0000-0003-4674-0357/work/47300979|2018       |\n",
      "|/0000-0003-3907-3357/work/39750253|2018       |\n",
      "|/0000-0003-3907-3357/work/39750252|2018       |\n",
      "|/0000-0002-6940-7357/work/48113380|2018       |\n",
      "|/0000-0002-6940-7357/work/48113373|2018       |\n",
      "|/0000-0002-1055-2357/work/44189600|2018       |\n",
      "|/0000-0001-8978-1357/work/39793957|2018       |\n",
      "|/0000-0002-0767-9357/work/46588819|2018       |\n",
      "|/0000-0002-0767-9357/work/40625101|2018       |\n",
      "|/0000-0002-0767-9357/work/45776275|2018       |\n",
      "|/0000-0002-0767-9357/work/45503007|2018       |\n",
      "|/0000-0002-0767-9357/work/45404918|2018       |\n",
      "|/0000-0002-2369-5357/work/44762239|2018       |\n",
      "|/0000-0001-6154-3357/work/38728668|2018       |\n",
      "|/0000-0001-6154-3357/work/39539391|2018       |\n",
      "|/0000-0001-6154-3357/work/39022789|2018       |\n",
      "|/0000-0002-0402-1357/work/39292714|2018       |\n",
      "|/0000-0003-3880-4357/work/43575538|2018       |\n",
      "|/0000-0002-9374-9357/work/47147722|2018       |\n",
      "|/0000-0002-9374-9357/work/47147720|2018       |\n",
      "|/0000-0002-4377-6357/work/43425287|2018       |\n",
      "|/0000-0002-9075-9357/work/45276866|2018       |\n",
      "|/0000-0002-3232-1357/work/44636605|2018       |\n",
      "|/0000-0002-6812-1357/work/47792929|2018       |\n",
      "|/0000-0001-9006-1357/work/48524428|2018       |\n",
      "|/0000-0001-9006-1357/work/48524171|2018       |\n",
      "|/0000-0001-9006-1357/work/48524141|2018       |\n",
      "|/0000-0001-9006-1357/work/48524156|2018       |\n",
      "|/0000-0001-9006-1357/work/48524306|2018       |\n",
      "|/0000-0001-7882-0357/work/40694589|2018       |\n",
      "|/0000-0003-1770-4357/work/45444186|2018       |\n",
      "|/0000-0003-1770-4357/work/46783924|2018       |\n",
      "|/0000-0002-5979-4357/work/46937241|2018       |\n",
      "|/0000-0002-5979-4357/work/46937244|2018       |\n",
      "|/0000-0002-0055-7357/work/41141393|2018       |\n",
      "|/0000-0003-1405-2357/work/48041580|2018       |\n",
      "|/0000-0002-7009-6357/work/47173087|2018       |\n",
      "|/0000-0001-8822-8357/work/43977655|2018       |\n",
      "|/0000-0001-8822-8357/work/42941873|2018       |\n",
      "|/0000-0001-8822-8357/work/47714144|2018       |\n",
      "|/0000-0001-7963-9357/work/47442938|2018       |\n",
      "|/0000-0001-7963-9357/work/40860587|2018       |\n",
      "|/0000-0001-7963-9357/work/41248098|2018       |\n",
      "|/0000-0001-7963-9357/work/47442971|2018       |\n",
      "|/0000-0001-7963-9357/work/40594843|2018       |\n",
      "|/0000-0001-7963-9357/work/40594773|2018       |\n",
      "|/0000-0001-7963-9357/work/47442781|2018       |\n",
      "|/0000-0002-1302-4357/work/40413350|2018       |\n",
      "|/0000-0002-1751-9357/work/48847583|2018       |\n",
      "|/0000-0002-4226-3357/work/45113104|2018       |\n",
      "|/0000-0002-4226-3357/work/44608981|2018       |\n",
      "|/0000-0002-5364-0357/work/45448039|2018       |\n",
      "|/0000-0002-5364-0357/work/48367459|2018       |\n",
      "|/0000-0002-5364-0357/work/42931427|2018       |\n",
      "|/0000-0002-5364-0357/work/45330764|2018       |\n",
      "|/0000-0002-5364-0357/work/42115564|2018       |\n",
      "|/0000-0002-5364-0357/work/45260212|2018       |\n",
      "|/0000-0003-4090-4357/work/46030287|2018       |\n",
      "|/0000-0003-4090-4357/work/43789359|2018       |\n",
      "|/0000-0002-6472-9357/work/47263170|2018       |\n",
      "|/0000-0002-6472-9357/work/47263182|2018       |\n",
      "|/0000-0002-6472-9357/work/42403756|2018       |\n",
      "|/0000-0002-9866-2357/work/48889852|2018       |\n",
      "|/0000-0002-9554-1357/work/44560856|2018       |\n",
      "|/0000-0003-3472-3357/work/38832883|2018       |\n",
      "|/0000-0003-3472-3357/work/42282034|2018       |\n",
      "|/0000-0002-5494-2357/work/48318052|2018       |\n",
      "|/0000-0002-6364-6357/work/46249338|2018       |\n",
      "|/0000-0002-6364-6357/work/46249346|2018       |\n",
      "|/0000-0002-6364-6357/work/48760972|2018       |\n",
      "|/0000-0002-6364-6357/work/48760973|2018       |\n",
      "|/0000-0003-3373-9357/work/46906981|2018       |\n",
      "|/0000-0003-3373-9357/work/46906980|2018       |\n",
      "|/0000-0003-3373-9357/work/41227361|2018       |\n",
      "|/0000-0003-3373-9357/work/46906977|2018       |\n",
      "|/0000-0003-3373-9357/work/40568721|2018       |\n",
      "|/0000-0003-3373-9357/work/46906979|2018       |\n",
      "|/0000-0003-3373-9357/work/40376530|2018       |\n",
      "|/0000-0003-3373-9357/work/46906978|2018       |\n",
      "|/0000-0003-3373-9357/work/45534155|2018       |\n",
      "|/0000-0002-1508-9357/work/48294803|2018       |\n",
      "|/0000-0002-1825-5357/work/47391767|2018       |\n",
      "|/0000-0002-1825-5357/work/47391787|2018       |\n",
      "|/0000-0002-1825-5357/work/47391780|2018       |\n",
      "|/0000-0002-1461-7357/work/48831762|2018       |\n",
      "|/0000-0002-1461-7357/work/48829764|2018       |\n",
      "|/0000-0002-1461-7357/work/48831639|2018       |\n",
      "|/0000-0002-1461-7357/work/42689999|2018       |\n",
      "|/0000-0002-1461-7357/work/48831643|2018       |\n",
      "|/0000-0002-4469-9357/work/48493139|2018       |\n",
      "|/0000-0002-5061-8357/work/47592040|2018       |\n",
      "|/0000-0002-5061-8357/work/43362972|2018       |\n",
      "|/0000-0001-6487-5357/work/42538192|2018       |\n",
      "|/0000-0001-6487-5357/work/42443209|2018       |\n",
      "|/0000-0002-0145-3357/work/46671044|2018       |\n",
      "|/0000-0001-8474-5357/work/44781608|2018       |\n",
      "|/0000-0001-8474-5357/work/43465818|2018       |\n",
      "|/0000-0001-8474-5357/work/43849663|2018       |\n",
      "|/0000-0001-8474-5357/work/43468064|2018       |\n",
      "|/0000-0001-8474-5357/work/44780596|2018       |\n",
      "|/0000-0001-8474-5357/work/45373466|2018       |\n",
      "|/0000-0001-8474-5357/work/43186576|2018       |\n",
      "|/0000-0001-8474-5357/work/44781696|2018       |\n",
      "|/0000-0001-8474-5357/work/44582806|2018       |\n",
      "|/0000-0001-8474-5357/work/43465637|2018       |\n",
      "|/0000-0001-8474-5357/work/44780684|2018       |\n",
      "|/0000-0001-8474-5357/work/44780819|2018       |\n",
      "|/0000-0001-8474-5357/work/44698723|2018       |\n",
      "|/0000-0001-8474-5357/work/44517297|2018       |\n",
      "|/0000-0001-8474-5357/work/45046376|2018       |\n",
      "|/0000-0001-8474-5357/work/43467998|2018       |\n",
      "|/0000-0001-8474-5357/work/43465869|2018       |\n",
      "|/0000-0001-8474-5357/work/43913581|2018       |\n",
      "|/0000-0001-8474-5357/work/43877958|2018       |\n",
      "|/0000-0001-8474-5357/work/47785381|2018       |\n",
      "|/0000-0001-8474-5357/work/43465638|2018       |\n",
      "|/0000-0001-8474-5357/work/43891077|2018       |\n",
      "|/0000-0001-8474-5357/work/44515937|2018       |\n",
      "|/0000-0001-8474-5357/work/43467550|2018       |\n",
      "|/0000-0001-8474-5357/work/43529849|2018       |\n",
      "|/0000-0001-8474-5357/work/43186577|2018       |\n",
      "|/0000-0001-8474-5357/work/44780925|2018       |\n",
      "|/0000-0001-8474-5357/work/43876401|2018       |\n",
      "|/0000-0001-8474-5357/work/43532344|2018       |\n",
      "|/0000-0001-8474-5357/work/44621220|2018       |\n",
      "|/0000-0001-8474-5357/work/44780902|2018       |\n",
      "|/0000-0001-8474-5357/work/43844838|2018       |\n",
      "|/0000-0001-8474-5357/work/44712913|2018       |\n",
      "|/0000-0001-8474-5357/work/44781000|2018       |\n",
      "|/0000-0001-8474-5357/work/43881490|2018       |\n",
      "|/0000-0001-8474-5357/work/44087459|2018       |\n",
      "|/0000-0001-8474-5357/work/44781281|2018       |\n",
      "|/0000-0001-8474-5357/work/46578486|2018       |\n",
      "|/0000-0001-8474-5357/work/43468079|2018       |\n",
      "|/0000-0001-8474-5357/work/43923851|2018       |\n",
      "|/0000-0001-8474-5357/work/43869089|2018       |\n",
      "|/0000-0001-8474-5357/work/43332422|2018       |\n",
      "|/0000-0001-8474-5357/work/44470709|2018       |\n",
      "|/0000-0001-8474-5357/work/43812064|2018       |\n",
      "|/0000-0001-8474-5357/work/43877282|2018       |\n",
      "|/0000-0001-8474-5357/work/44559071|2018       |\n",
      "|/0000-0001-8474-5357/work/44713363|2018       |\n",
      "|/0000-0001-8474-5357/work/43467677|2018       |\n",
      "|/0000-0001-8474-5357/work/44758534|2018       |\n",
      "|/0000-0001-8474-5357/work/43468045|2018       |\n",
      "|/0000-0001-8474-5357/work/43898506|2018       |\n",
      "|/0000-0001-8474-5357/work/43467509|2018       |\n",
      "|/0000-0001-8474-5357/work/43468071|2018       |\n",
      "|/0000-0001-8474-5357/work/46768699|2018       |\n",
      "|/0000-0001-8474-5357/work/44559016|2018       |\n",
      "|/0000-0001-8474-5357/work/45252042|2018       |\n",
      "|/0000-0001-8474-5357/work/43923210|2018       |\n",
      "|/0000-0001-8474-5357/work/43468059|2018       |\n",
      "|/0000-0001-8474-5357/work/44780765|2018       |\n",
      "|/0000-0001-8474-5357/work/44621251|2018       |\n",
      "|/0000-0001-8474-5357/work/43924866|2018       |\n",
      "|/0000-0001-8474-5357/work/43537903|2018       |\n",
      "|/0000-0001-8474-5357/work/43465752|2018       |\n",
      "|/0000-0001-8474-5357/work/44780736|2018       |\n",
      "|/0000-0001-8474-5357/work/46802042|2018       |\n",
      "|/0000-0001-8474-5357/work/43465631|2018       |\n",
      "|/0000-0001-8474-5357/work/43868698|2018       |\n",
      "|/0000-0001-8474-5357/work/46481014|2018       |\n",
      "|/0000-0001-8474-5357/work/45172922|2018       |\n",
      "|/0000-0001-8474-5357/work/44780723|2018       |\n",
      "|/0000-0001-8474-5357/work/45400567|2018       |\n",
      "|/0000-0001-8474-5357/work/44780921|2018       |\n",
      "|/0000-0001-8474-5357/work/44780698|2018       |\n",
      "|/0000-0001-8474-5357/work/47249043|2018       |\n",
      "|/0000-0001-8474-5357/work/44712630|2018       |\n",
      "|/0000-0001-8474-5357/work/43919237|2018       |\n",
      "|/0000-0001-8474-5357/work/43911617|2018       |\n",
      "|/0000-0001-8474-5357/work/45455225|2018       |\n",
      "|/0000-0001-8474-5357/work/43846605|2018       |\n",
      "|/0000-0001-8474-5357/work/43467508|2018       |\n",
      "|/0000-0001-8474-5357/work/43467492|2018       |\n",
      "|/0000-0001-8474-5357/work/43467504|2018       |\n",
      "|/0000-0001-8474-5357/work/44780853|2018       |\n",
      "|/0000-0002-5019-1357/work/42822612|2018       |\n",
      "+----------------------------------+-----------+\n",
      "only showing top 200 rows\n",
      "\n"
     ]
    }
   ],
   "source": [
    "df.filter($\"common:publication-date.common:year\".contains(\"2018\")).select(\"_path\",\"common:publication-date.common:year\").show(200, false)"
   ]
  },
  {
   "cell_type": "code",
   "execution_count": 15,
   "metadata": {},
   "outputs": [
    {
     "data": {
      "text/plain": [
       "df2018 = [_activities: string, _address: string ... 37 more fields]\n"
      ]
     },
     "metadata": {},
     "output_type": "display_data"
    },
    {
     "data": {
      "text/plain": [
       "[_activities: string, _address: string ... 37 more fields]"
      ]
     },
     "execution_count": 15,
     "metadata": {},
     "output_type": "execute_result"
    }
   ],
   "source": [
    "val df2018 = df.filter($\"common:publication-date.common:year\".contains(\"2018\"))\n",
    "df2018.selectshow"
   ]
  },
  {
   "cell_type": "markdown",
   "metadata": {},
   "source": [
    "### ORCID 2018 confirmed, no update needed. Updating the APS 2018 dataset:"
   ]
  },
  {
   "cell_type": "code",
   "execution_count": 2,
   "metadata": {},
   "outputs": [
    {
     "name": "stdout",
     "output_type": "stream",
     "text": [
      "[Stage 5:=================================================>(19867 + 18) / 19885]+-------+-----------+------+------+--------+-------+---------+------+\n",
      "|summary|articleType|  date|    id|numPages|pageEnd|pageStart|seqnum|\n",
      "+-------+-----------+------+------+--------+-------+---------+------+\n",
      "|  count|     634751|636294|636294|  625433| 302526|   636294|302526|\n",
      "+-------+-----------+------+------+--------+-------+---------+------+\n",
      "\n"
     ]
    },
    {
     "data": {
      "text/plain": [
       "df0 = [affiliations: array<struct<id:string,name:string>>, articleType: string ... 16 more fields]\n"
      ]
     },
     "metadata": {},
     "output_type": "display_data"
    },
    {
     "data": {
      "text/plain": [
       "lastException: Throwable = null\n"
      ]
     },
     "metadata": {},
     "output_type": "display_data"
    },
    {
     "data": {
      "text/plain": [
       "[affiliations: array<struct<id:string,name:string>>, articleType: string ... 16 more fields]"
      ]
     },
     "execution_count": 2,
     "metadata": {},
     "output_type": "execute_result"
    }
   ],
   "source": [
    "val df0 = spark.read.format(\"json\").load(\"file:///N/dc2/projects/IUNI_MSAcademic/ORCID/aps-dataset-citations-2018/aps-dataset-metadata-2018/*/*/*.json\")\n",
    "//df.printSchema()\n",
    "df0.describe().filter($\"summary\" === \"count\").show"
   ]
  },
  {
   "cell_type": "code",
   "execution_count": 5,
   "metadata": {},
   "outputs": [
    {
     "name": "stdout",
     "output_type": "stream",
     "text": [
      "[Stage 9:=======================================================> (49 + 1) / 50]"
     ]
    }
   ],
   "source": [
    "df0.coalesce(50).write.parquet(\"file:///N/dc2/projects/IUNI_MSAcademic/ORCID/aps-dataset-citations-2018/parquet\")"
   ]
  },
  {
   "cell_type": "code",
   "execution_count": 10,
   "metadata": {},
   "outputs": [
    {
     "name": "stdout",
     "output_type": "stream",
     "text": [
      "root\n",
      " |-- affiliations: array (nullable = true)\n",
      " |    |-- element: struct (containsNull = true)\n",
      " |    |    |-- id: string (nullable = true)\n",
      " |    |    |-- name: string (nullable = true)\n",
      " |-- articleType: string (nullable = true)\n",
      " |-- authors: array (nullable = true)\n",
      " |    |-- element: struct (containsNull = true)\n",
      " |    |    |-- affiliationIds: array (nullable = true)\n",
      " |    |    |    |-- element: string (containsNull = true)\n",
      " |    |    |-- firstname: string (nullable = true)\n",
      " |    |    |-- name: string (nullable = true)\n",
      " |    |    |-- surname: string (nullable = true)\n",
      " |    |    |-- type: string (nullable = true)\n",
      " |-- classificationSchemes: struct (nullable = true)\n",
      " |    |-- physh: struct (nullable = true)\n",
      " |    |    |-- concepts: array (nullable = true)\n",
      " |    |    |    |-- element: struct (containsNull = true)\n",
      " |    |    |    |    |-- facet: struct (nullable = true)\n",
      " |    |    |    |    |    |-- id: string (nullable = true)\n",
      " |    |    |    |    |    |-- label: string (nullable = true)\n",
      " |    |    |    |    |-- id: string (nullable = true)\n",
      " |    |    |    |    |-- label: string (nullable = true)\n",
      " |    |    |    |    |-- primary: boolean (nullable = true)\n",
      " |    |    |-- disciplines: array (nullable = true)\n",
      " |    |    |    |-- element: struct (containsNull = true)\n",
      " |    |    |    |    |-- id: string (nullable = true)\n",
      " |    |    |    |    |-- label: string (nullable = true)\n",
      " |    |-- subjectAreas: array (nullable = true)\n",
      " |    |    |-- element: struct (containsNull = true)\n",
      " |    |    |    |-- id: string (nullable = true)\n",
      " |    |    |    |-- label: string (nullable = true)\n",
      " |-- date: string (nullable = true)\n",
      " |-- hasArticleId: boolean (nullable = true)\n",
      " |-- id: string (nullable = true)\n",
      " |-- identifiers: struct (nullable = true)\n",
      " |    |-- doi: string (nullable = true)\n",
      " |-- issue: struct (nullable = true)\n",
      " |    |-- number: string (nullable = true)\n",
      " |-- journal: struct (nullable = true)\n",
      " |    |-- abbreviatedName: string (nullable = true)\n",
      " |    |-- id: string (nullable = true)\n",
      " |    |-- name: string (nullable = true)\n",
      " |-- numPages: long (nullable = true)\n",
      " |-- pageEnd: string (nullable = true)\n",
      " |-- pageStart: string (nullable = true)\n",
      " |-- publisher: struct (nullable = true)\n",
      " |    |-- name: string (nullable = true)\n",
      " |-- rights: struct (nullable = true)\n",
      " |    |-- copyrightHolders: array (nullable = true)\n",
      " |    |    |-- element: struct (containsNull = true)\n",
      " |    |    |    |-- name: string (nullable = true)\n",
      " |    |    |    |-- type: string (nullable = true)\n",
      " |    |-- copyrightYear: long (nullable = true)\n",
      " |    |-- creativeCommons: boolean (nullable = true)\n",
      " |    |-- licenses: array (nullable = true)\n",
      " |    |    |-- element: struct (containsNull = true)\n",
      " |    |    |    |-- type: string (nullable = true)\n",
      " |    |    |    |-- url: string (nullable = true)\n",
      " |    |    |    |-- usageSatement: struct (nullable = true)\n",
      " |    |    |    |    |-- format: string (nullable = true)\n",
      " |    |    |    |    |-- value: string (nullable = true)\n",
      " |    |-- rightsStatement: string (nullable = true)\n",
      " |-- seqnum: long (nullable = true)\n",
      " |-- title: struct (nullable = true)\n",
      " |    |-- format: string (nullable = true)\n",
      " |    |-- value: string (nullable = true)\n",
      " |-- volume: struct (nullable = true)\n",
      " |    |-- number: string (nullable = true)\n",
      "\n"
     ]
    },
    {
     "data": {
      "text/plain": [
       "df01 = [affiliations: array<struct<id:string,name:string>>, articleType: string ... 16 more fields]\n"
      ]
     },
     "metadata": {},
     "output_type": "display_data"
    },
    {
     "data": {
      "text/plain": [
       "[affiliations: array<struct<id:string,name:string>>, articleType: string ... 16 more fields]"
      ]
     },
     "execution_count": 10,
     "metadata": {},
     "output_type": "execute_result"
    }
   ],
   "source": [
    "val df01 = spark.read.format(\"parquet\").load(\"file:///N/dc2/projects/IUNI_MSAcademic/ORCID/aps-dataset-citations-2018/parquet/*.parquet\")\n",
    "//df.printSchema()\n",
    "df01.printSchema()"
   ]
  },
  {
   "cell_type": "code",
   "execution_count": null,
   "metadata": {},
   "outputs": [],
   "source": []
  }
 ],
 "metadata": {
  "kernelspec": {
   "display_name": "Python 3",
   "language": "python",
   "name": "python3"
  },
  "language_info": {
   "codemirror_mode": {
    "name": "ipython",
    "version": 3
   },
   "file_extension": ".py",
   "mimetype": "text/x-python",
   "name": "python",
   "nbconvert_exporter": "python",
   "pygments_lexer": "ipython3",
   "version": "3.5.6"
  }
 },
 "nbformat": 4,
 "nbformat_minor": 4
}
